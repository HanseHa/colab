{
  "cells": [
    {
      "cell_type": "markdown",
      "metadata": {
        "colab_type": "text",
        "id": "view-in-github"
      },
      "source": [
        "<a href=\"https://colab.research.google.com/github/HanseHa/colab/blob/main/Chapter7_data_science.ipynb\" target=\"_parent\"><img src=\"https://colab.research.google.com/assets/colab-badge.svg\" alt=\"Open In Colab\"/></a>"
      ]
    },
    {
      "cell_type": "markdown",
      "metadata": {
        "id": "ahIRZj6K-3-o"
      },
      "source": [
        "# Chapter 7:  Data Science"
      ]
    },
    {
      "cell_type": "markdown",
      "metadata": {
        "id": "Hc7QdhV05VUF"
      },
      "source": [
        "**This is a chapter in the book Minimal Python**\n",
        "\n",
        "* [Buy a copy on LeanPub](https://leanpub.com/minimalpython)\n",
        "* [Buy a copy from Amazon](https://www.amazon.com/Minimal-Python-efficient-programmer-onemillion2021-ebook/dp/B0855NSRR7)\n",
        "\n",
        "[*Licensed Under Attribution-NonCommercial-ShareAlike 4.0*](https://creativecommons.org/licenses/by-nc-sa/4.0/)\n",
        "\n",
        "![Minimal Python Book](https://d2sofvawe08yqg.cloudfront.net/minimalpython/hero?1582640276)"
      ]
    },
    {
      "cell_type": "markdown",
      "metadata": {
        "id": "NS0R02LQwG_2"
      },
      "source": [
        "## Ingest"
      ]
    },
    {
      "cell_type": "markdown",
      "metadata": {
        "id": "NJntteRBwI46"
      },
      "source": [
        "*COVID-19 Data from [New York Times Github](https://github.com/nytimes/covid-19-data)*"
      ]
    },
    {
      "cell_type": "code",
      "execution_count": 1,
      "metadata": {
        "id": "1ABhk0OLwejq",
        "outputId": "985ccf95-9dfc-40fe-8281-6484b9bc3377",
        "colab": {
          "base_uri": "https://localhost:8080/",
          "height": 202
        }
      },
      "source": [
        "import pandas as pd\n",
        "df = pd.read_csv(\"https://raw.githubusercontent.com/nytimes/covid-19-data/master/us-states.csv\")\n",
        "df.head()"
      ],
      "execution_count": null,
      "outputs": [
        {
          "data": {
            "text/plain": [
              "         date       state  fips  cases  deaths\n",
              "0  2020-01-21  Washington    53      1       0\n",
              "1  2020-01-22  Washington    53      1       0\n",
              "2  2020-01-23  Washington    53      1       0\n",
              "3  2020-01-24    Illinois    17      1       0\n",
              "4  2020-01-24  Washington    53      1       0"
            ],
            "text/html": [
              "\n",
              "  <div id=\"df-e3d596a0-032b-4909-9d2a-c4a968aa3ca0\" class=\"colab-df-container\">\n",
              "    <div>\n",
              "<style scoped>\n",
              "    .dataframe tbody tr th:only-of-type {\n",
              "        vertical-align: middle;\n",
              "    }\n",
              "\n",
              "    .dataframe tbody tr th {\n",
              "        vertical-align: top;\n",
              "    }\n",
              "\n",
              "    .dataframe thead th {\n",
              "        text-align: right;\n",
              "    }\n",
              "</style>\n",
              "<table border=\"1\" class=\"dataframe\">\n",
              "  <thead>\n",
              "    <tr style=\"text-align: right;\">\n",
              "      <th></th>\n",
              "      <th>date</th>\n",
              "      <th>state</th>\n",
              "      <th>fips</th>\n",
              "      <th>cases</th>\n",
              "      <th>deaths</th>\n",
              "    </tr>\n",
              "  </thead>\n",
              "  <tbody>\n",
              "    <tr>\n",
              "      <th>0</th>\n",
              "      <td>2020-01-21</td>\n",
              "      <td>Washington</td>\n",
              "      <td>53</td>\n",
              "      <td>1</td>\n",
              "      <td>0</td>\n",
              "    </tr>\n",
              "    <tr>\n",
              "      <th>1</th>\n",
              "      <td>2020-01-22</td>\n",
              "      <td>Washington</td>\n",
              "      <td>53</td>\n",
              "      <td>1</td>\n",
              "      <td>0</td>\n",
              "    </tr>\n",
              "    <tr>\n",
              "      <th>2</th>\n",
              "      <td>2020-01-23</td>\n",
              "      <td>Washington</td>\n",
              "      <td>53</td>\n",
              "      <td>1</td>\n",
              "      <td>0</td>\n",
              "    </tr>\n",
              "    <tr>\n",
              "      <th>3</th>\n",
              "      <td>2020-01-24</td>\n",
              "      <td>Illinois</td>\n",
              "      <td>17</td>\n",
              "      <td>1</td>\n",
              "      <td>0</td>\n",
              "    </tr>\n",
              "    <tr>\n",
              "      <th>4</th>\n",
              "      <td>2020-01-24</td>\n",
              "      <td>Washington</td>\n",
              "      <td>53</td>\n",
              "      <td>1</td>\n",
              "      <td>0</td>\n",
              "    </tr>\n",
              "  </tbody>\n",
              "</table>\n",
              "</div>"
            ],
            "text/plain": [
              "         date       state  fips  cases  deaths\n",
              "0  2020-01-21  Washington    53      1       0\n",
              "1  2020-01-22  Washington    53      1       0\n",
              "2  2020-01-23  Washington    53      1       0\n",
              "3  2020-01-24    Illinois    17      1       0\n",
              "4  2020-01-24  Washington    53      1       0"
            ]
          },
          "metadata": {
            "tags": []
          },
          "execution_count": 29
        }
      ]
    },
    {
      "cell_type": "markdown",
      "metadata": {
        "id": "1iMW3XxnkUXF"
      },
      "source": [
        "Last five rows"
      ]
    },
    {
      "cell_type": "code",
      "execution_count": 2,
      "metadata": {
        "id": "l4vUSkZ5_C-0"
      },
      "execution_count": 1,
      "outputs": []
    },
    {
      "cell_type": "code",
      "execution_count": 3,
      "metadata": {
        "id": "opOpFijSkXR6",
        "outputId": "8425ed2f-b1b0-4516-a217-0f4efdf30d2a",
        "colab": {
          "base_uri": "https://localhost:8080/",
          "height": 202
        }
      },
      "source": [
        "df.tail()"
      ],
      "execution_count": null,
      "outputs": [
        {
          "data": {
            "text/plain": [
              "             date          state  fips    cases  deaths\n",
              "61937  2023-03-23       Virginia    51  2298300   23782\n",
              "61938  2023-03-23     Washington    53  1940704   15905\n",
              "61939  2023-03-23  West Virginia    54   645710    8132\n",
              "61940  2023-03-23      Wisconsin    55  2014524   16485\n",
              "61941  2023-03-23        Wyoming    56   185800    2014"
            ],
            "text/html": [
              "\n",
              "  <div id=\"df-cea1052a-2204-4d6e-be13-f1c6468df418\" class=\"colab-df-container\">\n",
              "    <div>\n",
              "<style scoped>\n",
              "    .dataframe tbody tr th:only-of-type {\n",
              "        vertical-align: middle;\n",
              "    }\n",
              "\n",
              "    .dataframe tbody tr th {\n",
              "        vertical-align: top;\n",
              "    }\n",
              "\n",
              "    .dataframe thead th {\n",
              "        text-align: right;\n",
              "    }\n",
              "</style>\n",
              "<table border=\"1\" class=\"dataframe\">\n",
              "  <thead>\n",
              "    <tr style=\"text-align: right;\">\n",
              "      <th></th>\n",
              "      <th>date</th>\n",
              "      <th>state</th>\n",
              "      <th>fips</th>\n",
              "      <th>cases</th>\n",
              "      <th>deaths</th>\n",
              "    </tr>\n",
              "  </thead>\n",
              "  <tbody>\n",
              "    <tr>\n",
              "      <th>61937</th>\n",
              "      <td>2023-03-23</td>\n",
              "      <td>Virginia</td>\n",
              "      <td>51</td>\n",
              "      <td>2298300</td>\n",
              "      <td>23782</td>\n",
              "    </tr>\n",
              "    <tr>\n",
              "      <th>61938</th>\n",
              "      <td>2023-03-23</td>\n",
              "      <td>Washington</td>\n",
              "      <td>53</td>\n",
              "      <td>1940704</td>\n",
              "      <td>15905</td>\n",
              "    </tr>\n",
              "    <tr>\n",
              "      <th>61939</th>\n",
              "      <td>2023-03-23</td>\n",
              "      <td>West Virginia</td>\n",
              "      <td>54</td>\n",
              "      <td>645710</td>\n",
              "      <td>8132</td>\n",
              "    </tr>\n",
              "    <tr>\n",
              "      <th>61940</th>\n",
              "      <td>2023-03-23</td>\n",
              "      <td>Wisconsin</td>\n",
              "      <td>55</td>\n",
              "      <td>2014524</td>\n",
              "      <td>16485</td>\n",
              "    </tr>\n",
              "    <tr>\n",
              "      <th>61941</th>\n",
              "      <td>2023-03-23</td>\n",
              "      <td>Wyoming</td>\n",
              "      <td>56</td>\n",
              "      <td>185800</td>\n",
              "      <td>2014</td>\n",
              "    </tr>\n",
              "  </tbody>\n",
              "</table>\n",
              "</div>"
            ],
            "text/plain": [
              "            date          state  fips  cases  deaths\n",
              "1934  2020-04-06       Virginia    51   2878      54\n",
              "1935  2020-04-06     Washington    53   8384     383\n",
              "1936  2020-04-06  West Virginia    54    345       4\n",
              "1937  2020-04-06      Wisconsin    55   2440      83\n",
              "1938  2020-04-06        Wyoming    56    212       0"
            ]
          },
          "metadata": {
            "tags": []
          },
          "execution_count": 30
        }
      ]
    },
    {
      "cell_type": "markdown",
      "metadata": {
        "id": "zr7wdjHswKfq"
      },
      "source": [
        "*What are the columns?*"
      ]
    },
    {
      "cell_type": "code",
      "execution_count": 4,
      "metadata": {
        "id": "DwAMxSNSwNWj",
        "outputId": "ebd41475-85cc-4166-de5c-5595b0d0e222",
        "colab": {
          "base_uri": "https://localhost:8080/",
          "height": 35
        }
      },
      "source": [
        "df.columns"
      ],
      "execution_count": null,
      "outputs": [
        {
          "data": {
            "text/plain": [
              "Index(['date', 'state', 'fips', 'cases', 'deaths'], dtype='object')"
            ]
          },
          "metadata": {
            "tags": []
          },
          "execution_count": 3
        }
      ]
    },
    {
      "cell_type": "markdown",
      "metadata": {
        "id": "Q3njEtIJwSCi"
      },
      "source": [
        "*What is the shape:  i.e. rows,columns?*"
      ]
    },
    {
      "cell_type": "code",
      "execution_count": 5,
      "metadata": {
        "id": "kyCznu1cwUv_",
        "outputId": "fb5ea532-c126-4225-ba7e-ca71249245ba",
        "colab": {
          "base_uri": "https://localhost:8080/",
          "height": 35
        }
      },
      "source": [
        "df.shape"
      ],
      "execution_count": null,
      "outputs": [
        {
          "data": {
            "text/plain": [
              "(61942, 5)"
            ]
          },
          "metadata": {
            "tags": []
          },
          "execution_count": 31
        }
      ]
    },
    {
      "cell_type": "markdown",
      "metadata": {
        "id": "PY_nFEZKwI7R"
      },
      "source": [
        "## EDA"
      ]
    },
    {
      "cell_type": "markdown",
      "metadata": {
        "id": "nNw9of3LiQjU"
      },
      "source": [
        "*What are general characteristics of the data?  A good way to find out is `df.describe`*"
      ]
    },
    {
      "cell_type": "code",
      "execution_count": 6,
      "metadata": {
        "id": "IHuBZouXCYAZ",
        "outputId": "8e4826ed-e1d1-46c0-da39-86188dffc763",
        "colab": {
          "base_uri": "https://localhost:8080/",
          "height": 295
        }
      },
      "source": [
        "df.describe()"
      ],
      "execution_count": null,
      "outputs": [
        {
          "data": {
            "text/plain": [
              "               fips         cases         deaths\n",
              "count  61942.000000  6.194200e+04   61942.000000\n",
              "mean      32.247958  8.898301e+05   11779.067499\n",
              "std       18.788383  1.470231e+06   17345.774849\n",
              "min        1.000000  1.000000e+00       0.000000\n",
              "25%       17.000000  7.078350e+04    1171.000000\n",
              "50%       31.000000  3.514960e+05    5035.000000\n",
              "75%       46.000000  1.043231e+06   14912.000000\n",
              "max       78.000000  1.216916e+07  104277.000000"
            ],
            "text/html": [
              "\n",
              "  <div id=\"df-95cabd76-8473-4cff-b935-efe0a81adb20\" class=\"colab-df-container\">\n",
              "    <div>\n",
              "<style scoped>\n",
              "    .dataframe tbody tr th:only-of-type {\n",
              "        vertical-align: middle;\n",
              "    }\n",
              "\n",
              "    .dataframe tbody tr th {\n",
              "        vertical-align: top;\n",
              "    }\n",
              "\n",
              "    .dataframe thead th {\n",
              "        text-align: right;\n",
              "    }\n",
              "</style>\n",
              "<table border=\"1\" class=\"dataframe\">\n",
              "  <thead>\n",
              "    <tr style=\"text-align: right;\">\n",
              "      <th></th>\n",
              "      <th>fips</th>\n",
              "      <th>cases</th>\n",
              "      <th>deaths</th>\n",
              "    </tr>\n",
              "  </thead>\n",
              "  <tbody>\n",
              "    <tr>\n",
              "      <th>count</th>\n",
              "      <td>61942.000000</td>\n",
              "      <td>6.194200e+04</td>\n",
              "      <td>61942.000000</td>\n",
              "    </tr>\n",
              "    <tr>\n",
              "      <th>mean</th>\n",
              "      <td>32.247958</td>\n",
              "      <td>8.898301e+05</td>\n",
              "      <td>11779.067499</td>\n",
              "    </tr>\n",
              "    <tr>\n",
              "      <th>std</th>\n",
              "      <td>18.788383</td>\n",
              "      <td>1.470231e+06</td>\n",
              "      <td>17345.774849</td>\n",
              "    </tr>\n",
              "    <tr>\n",
              "      <th>min</th>\n",
              "      <td>1.000000</td>\n",
              "      <td>1.000000e+00</td>\n",
              "      <td>0.000000</td>\n",
              "    </tr>\n",
              "    <tr>\n",
              "      <th>25%</th>\n",
              "      <td>17.000000</td>\n",
              "      <td>7.078350e+04</td>\n",
              "      <td>1171.000000</td>\n",
              "    </tr>\n",
              "    <tr>\n",
              "      <th>50%</th>\n",
              "      <td>31.000000</td>\n",
              "      <td>3.514960e+05</td>\n",
              "      <td>5035.000000</td>\n",
              "    </tr>\n",
              "    <tr>\n",
              "      <th>75%</th>\n",
              "      <td>46.000000</td>\n",
              "      <td>1.043231e+06</td>\n",
              "      <td>14912.000000</td>\n",
              "    </tr>\n",
              "    <tr>\n",
              "      <th>max</th>\n",
              "      <td>78.000000</td>\n",
              "      <td>1.216916e+07</td>\n",
              "      <td>104277.000000</td>\n",
              "    </tr>\n",
              "  </tbody>\n",
              "</table>\n",
              "</div>"
            ],
            "text/plain": [
              "              fips          cases       deaths\n",
              "count  1939.000000    1939.000000  1939.000000\n",
              "mean     30.892728    1467.224342    34.104177\n",
              "std      18.062123    7403.847224   210.798255\n",
              "min       1.000000       1.000000     0.000000\n",
              "25%      17.000000       7.000000     0.000000\n",
              "50%      30.000000      75.000000     1.000000\n",
              "75%      46.000000     565.000000    10.000000\n",
              "max      78.000000  130703.000000  4758.000000"
            ]
          },
          "metadata": {
            "tags": []
          },
          "execution_count": 32
        }
      ]
    },
    {
      "cell_type": "markdown",
      "metadata": {
        "id": "3YtAIL7HFjOw"
      },
      "source": [
        "*Cases and Deaths in the USA due to Covid-19*"
      ]
    },
    {
      "cell_type": "code",
      "execution_count": 7,
      "metadata": {
        "id": "C9vXU4_fCj-8",
        "outputId": "eb684f08-960c-4847-a492-150e26343549",
        "colab": {
          "base_uri": "https://localhost:8080/",
          "height": 297
        }
      },
      "source": [
        "import seaborn as sns\n",
        "sns.scatterplot(x=\"cases\", y=\"deaths\",\n",
        "                hue=\"deaths\",size=\"deaths\", data=df)"
      ],
      "execution_count": null,
      "outputs": [
        {
          "data": {
            "text/plain": [
              "<Axes: xlabel='cases', ylabel='deaths'>"
            ]
          },
          "metadata": {
            "tags": []
          },
          "execution_count": 33
        },
        {
          "data": {
            "image/png": "iVBORw0KGgoAAAANSUhEUgAAAYsAAAEGCAYAAACUzrmNAAAABHNCSVQICAgIfAhkiAAAAAlwSFlz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\nTkSuQmCC\n",
            "text/plain": [
              "<Figure size 432x288 with 1 Axes>"
            ]
          },
          "metadata": {
            "tags": []
          }
        }
      ]
    },
    {
      "cell_type": "markdown",
      "metadata": {
        "id": "O_pRge294dFK"
      },
      "source": [
        "### Date-based EDA"
      ]
    },
    {
      "cell_type": "markdown",
      "metadata": {
        "id": "TSVSSgwev-Pp"
      },
      "source": [
        "*Dealing with dates by setting index*"
      ]
    },
    {
      "cell_type": "code",
      "execution_count": 8,
      "metadata": {
        "id": "KOzYb89evmrr",
        "outputId": "327c031d-ee8b-4ae0-8683-5b1fa4e1a1d0",
        "colab": {
          "base_uri": "https://localhost:8080/",
          "height": 179
        }
      },
      "source": [
        "df = pd.read_csv(\"https://raw.githubusercontent.com/nytimes/covid-19-data/master/us-states.csv\")\n",
        "df[\"date\"] = pd.to_datetime(df[\"date\"])\n",
        "df = df.set_index(\"date\")\n",
        "print(f\"Columns: {df.columns}\")\n",
        "df.index"
      ],
      "execution_count": null,
      "outputs": [
        {
          "name": "stdout",
          "output_type": "stream",
          "name": "stdout",
          "text": [
            "Columns: Index(['state', 'fips', 'cases', 'deaths'], dtype='object')\n"
          ]
        },
        {
          "data": {
            "text/plain": [
              "DatetimeIndex(['2020-01-21', '2020-01-22', '2020-01-23', '2020-01-24',\n",
              "               '2020-01-24', '2020-01-25', '2020-01-25', '2020-01-25',\n",
              "               '2020-01-26', '2020-01-26',\n",
              "               ...\n",
              "               '2023-03-23', '2023-03-23', '2023-03-23', '2023-03-23',\n",
              "               '2023-03-23', '2023-03-23', '2023-03-23', '2023-03-23',\n",
              "               '2023-03-23', '2023-03-23'],\n",
              "              dtype='datetime64[ns]', name='date', length=61942, freq=None)"
            ]
          },
          "metadata": {
            "tags": []
          },
          "execution_count": 34
        }
      ]
    },
    {
      "cell_type": "markdown",
      "metadata": {
        "id": "ULM1KdpWijcS"
      },
      "source": [
        "*Filter results by date range*"
      ]
    },
    {
      "cell_type": "code",
      "execution_count": 9,
      "metadata": {
        "id": "O1ennZNsvlJx",
        "outputId": "32bbc404-d549-4e6e-c578-05fca252fbe0",
        "colab": {
          "base_uri": "https://localhost:8080/",
          "height": 53
        }
      ],
      "source": [
        "from datetime import date, timedelta\n",
        "today = date.today()\n",
        "daybefore = today - timedelta(days = 2)\n",
        "print(f\"Today {today}\")\n",
        "print(f\"Two days ago {daybefore}\")"
      ],
      "execution_count": null,
      "outputs": [
        {
          "output_type": "stream",
          "text": [
            "Today 2020-04-08\n",
            "Two days ago 2020-04-06\n"
          ],
          "name": "stdout"
        }
      ]
    },
    {
      "cell_type": "code",
      "execution_count": 10,
      "metadata": {
        "id": "7zuHpxkm1sTA",
        "outputId": "ab87d37c-7186-479d-fc0d-83a69780a66d",
        "colab": {
          "base_uri": "https://localhost:8080/",
          "height": 233
        }
      },
      "source": [
        "df.loc[daybefore:today].head()"
      ],
      "execution_count": null,
      "outputs": [
        {
          "data": {
            "text/plain": [
              "                     state  fips    cases  deaths\n",
              "date                                             \n",
              "2022-01-20         Alabama     1  1104356   16792\n",
              "2022-01-20          Alaska     2   187655    1027\n",
              "2022-01-20  American Samoa    60       18       0\n",
              "2022-01-20         Arizona     4  1683915   25429\n",
              "2022-01-20        Arkansas     5   713643    9470"
            ],
            "text/html": [
              "\n",
              "  <div id=\"df-3fde1e7a-c1a4-4db5-bcee-5a6db8fb2fee\" class=\"colab-df-container\">\n",
              "    <div>\n",
              "<style scoped>\n",
              "    .dataframe tbody tr th:only-of-type {\n",
              "        vertical-align: middle;\n",
              "    }\n",
              "\n",
              "    .dataframe tbody tr th {\n",
              "        vertical-align: top;\n",
              "    }\n",
              "\n",
              "    .dataframe thead th {\n",
              "        text-align: right;\n",
              "    }\n",
              "</style>\n",
              "<table border=\"1\" class=\"dataframe\">\n",
              "  <thead>\n",
              "    <tr style=\"text-align: right;\">\n",
              "      <th></th>\n",
              "      <th>state</th>\n",
              "      <th>fips</th>\n",
              "      <th>cases</th>\n",
              "      <th>deaths</th>\n",
              "    </tr>\n",
              "    <tr>\n",
              "      <th>date</th>\n",
              "      <th></th>\n",
              "      <th></th>\n",
              "      <th></th>\n",
              "      <th></th>\n",
              "    </tr>\n",
              "  </thead>\n",
              "  <tbody>\n",
              "    <tr>\n",
              "      <th>2020-04-06</th>\n",
              "      <td>Alabama</td>\n",
              "      <td>1</td>\n",
              "      <td>2006</td>\n",
              "      <td>53</td>\n",
              "    </tr>\n",
              "    <tr>\n",
              "      <th>2020-04-06</th>\n",
              "      <td>Alaska</td>\n",
              "      <td>2</td>\n",
              "      <td>189</td>\n",
              "      <td>4</td>\n",
              "    </tr>\n",
              "    <tr>\n",
              "      <th>2020-04-06</th>\n",
              "      <td>Arizona</td>\n",
              "      <td>4</td>\n",
              "      <td>2465</td>\n",
              "      <td>67</td>\n",
              "    </tr>\n",
              "    <tr>\n",
              "      <th>2020-04-06</th>\n",
              "      <td>Arkansas</td>\n",
              "      <td>5</td>\n",
              "      <td>927</td>\n",
              "      <td>16</td>\n",
              "    </tr>\n",
              "    <tr>\n",
              "      <th>2020-04-06</th>\n",
              "      <td>California</td>\n",
              "      <td>6</td>\n",
              "      <td>16284</td>\n",
              "      <td>386</td>\n",
              "    </tr>\n",
              "  </tbody>\n",
              "</table>\n",
              "</div>"
            ],
            "text/plain": [
              "                 state  fips  cases  deaths\n",
              "date                                       \n",
              "2020-04-06     Alabama     1   2006      53\n",
              "2020-04-06      Alaska     2    189       4\n",
              "2020-04-06     Arizona     4   2465      67\n",
              "2020-04-06    Arkansas     5    927      16\n",
              "2020-04-06  California     6  16284     386"
            ]
          },
          "metadata": {
            "tags": []
          },
          "execution_count": 36
        }
      ]
    },
    {
      "cell_type": "markdown",
      "metadata": {
        "id": "Ek_hurrf5FFi"
      },
      "source": [
        "*The distribution of the data by date*"
      ]
    },
    {
      "cell_type": "code",
      "execution_count": 11,
      "metadata": {
        "id": "SHl20wNuiuMw",
        "outputId": "720f5839-d7ac-444f-9f53-f65c598ece8a",
        "colab": {
          "base_uri": "https://localhost:8080/",
          "height": 283
        }
      },
      "source": [
        "sns.kdeplot(df.loc[daybefore:today][\"deaths\"], shade=True)"
      ],
      "execution_count": null,
      "outputs": [
        {
          "output_type": "stream",
          "name": "stderr",
          "text": [
            "<ipython-input-27-efe4c09d3ad9>:3: FutureWarning: \n",
            "\n",
            "`shade` is now deprecated in favor of `fill`; setting `fill=True`.\n",
            "This will become an error in seaborn v0.14.0; please update your code.\n",
            "\n",
            "  sns.kdeplot(df.loc[td:tmrr][\"deaths\"], shade=True)\n"
          ]
        },
        {
          "name": "stderr",
          "output_type": "stream",
          "text": [
            "/tmp/ipykernel_12395/2749997224.py:1: FutureWarning: \n",
            "\n",
            "`shade` is now deprecated in favor of `fill`; setting `fill=True`.\n",
            "This will become an error in seaborn v0.14.0; please update your code.\n",
            "\n",
            "  sns.kdeplot(df.loc[daybefore:today][\"deaths\"], shade=True)\n"
          ]
        },
        {
          "data": {
            "text/plain": [
              "<matplotlib.axes._subplots.AxesSubplot at 0x7fdedc7fab00>"
            ]
          },
          "metadata": {
            "tags": []
          },
          "execution_count": 37
        },
        {
          "data": {
            "image/png": "iVBORw0KGgoAAAANSUhEUgAAAYQAAAD4CAYAAADsKpHdAAAABHNCSVQICAgIfAhkiAAAAAlwSFlz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\ngg==\n",
            "text/plain": [
              "<Figure size 432x288 with 1 Axes>"
            ]
          },
          "metadata": {
            "tags": []
          }
        }
      ]
    },
    {
      "cell_type": "markdown",
      "metadata": {
        "id": "ehV0NJINmR5S"
      },
      "source": [
        "*Sort DataFrame in place by states with highest deaths and cases and show first 10 results*"
      ]
    },
    {
      "cell_type": "code",
      "execution_count": 12,
      "metadata": {
        "id": "8QcPkd6CnH6q",
        "outputId": "0e30a007-7af4-4adb-e56b-c5e62e0e41e7",
        "colab": {
          "base_uri": "https://localhost:8080/",
          "height": 387
        }
      },
      "source": [
        "current_df = df.loc[daybefore:today].sort_values(by=[\"deaths\", \"cases\"], ascending=False)\n",
        "current_df.head(10)"
      ],
      "execution_count": null,
      "outputs": [
        {
          "data": {
            "text/plain": [
              "                 state  fips     cases  deaths\n",
              "date                                          \n",
              "2023-01-27  California     6  11980295  102283\n",
              "2023-01-26  California     6  11979032  102259\n",
              "2023-01-25  California     6  11960085  102102\n",
              "2023-01-24  California     6  11958856  102053\n",
              "2023-01-23  California     6  11957890  102025\n",
              "2023-01-22  California     6  11955660  101983\n",
              "2023-01-20  California     6  11955605  101982\n",
              "2023-01-21  California     6  11955605  101982\n",
              "2023-01-19  California     6  11954442  101957\n",
              "2023-01-18  California     6  11931371  101765"
            ],
            "text/html": [
              "\n",
              "  <div id=\"df-a1a81310-8aec-440c-9847-74793b088e67\" class=\"colab-df-container\">\n",
              "    <div>\n",
              "<style scoped>\n",
              "    .dataframe tbody tr th:only-of-type {\n",
              "        vertical-align: middle;\n",
              "    }\n",
              "\n",
              "    .dataframe tbody tr th {\n",
              "        vertical-align: top;\n",
              "    }\n",
              "\n",
              "    .dataframe thead th {\n",
              "        text-align: right;\n",
              "    }\n",
              "</style>\n",
              "<table border=\"1\" class=\"dataframe\">\n",
              "  <thead>\n",
              "    <tr style=\"text-align: right;\">\n",
              "      <th></th>\n",
              "      <th>state</th>\n",
              "      <th>fips</th>\n",
              "      <th>cases</th>\n",
              "      <th>deaths</th>\n",
              "    </tr>\n",
              "    <tr>\n",
              "      <th>date</th>\n",
              "      <th></th>\n",
              "      <th></th>\n",
              "      <th></th>\n",
              "      <th></th>\n",
              "    </tr>\n",
              "  </thead>\n",
              "  <tbody>\n",
              "    <tr>\n",
              "      <th>2020-04-06</th>\n",
              "      <td>New York</td>\n",
              "      <td>36</td>\n",
              "      <td>130703</td>\n",
              "      <td>4758</td>\n",
              "    </tr>\n",
              "    <tr>\n",
              "      <th>2020-04-06</th>\n",
              "      <td>New Jersey</td>\n",
              "      <td>34</td>\n",
              "      <td>41090</td>\n",
              "      <td>1005</td>\n",
              "    </tr>\n",
              "    <tr>\n",
              "      <th>2020-04-06</th>\n",
              "      <td>Michigan</td>\n",
              "      <td>26</td>\n",
              "      <td>17130</td>\n",
              "      <td>727</td>\n",
              "    </tr>\n",
              "    <tr>\n",
              "      <th>2020-04-06</th>\n",
              "      <td>Louisiana</td>\n",
              "      <td>22</td>\n",
              "      <td>14867</td>\n",
              "      <td>512</td>\n",
              "    </tr>\n",
              "    <tr>\n",
              "      <th>2020-04-06</th>\n",
              "      <td>California</td>\n",
              "      <td>6</td>\n",
              "      <td>16284</td>\n",
              "      <td>386</td>\n",
              "    </tr>\n",
              "    <tr>\n",
              "      <th>2020-04-06</th>\n",
              "      <td>Washington</td>\n",
              "      <td>53</td>\n",
              "      <td>8384</td>\n",
              "      <td>383</td>\n",
              "    </tr>\n",
              "    <tr>\n",
              "      <th>2020-04-06</th>\n",
              "      <td>Illinois</td>\n",
              "      <td>17</td>\n",
              "      <td>12262</td>\n",
              "      <td>309</td>\n",
              "    </tr>\n",
              "    <tr>\n",
              "      <th>2020-04-06</th>\n",
              "      <td>Georgia</td>\n",
              "      <td>13</td>\n",
              "      <td>7558</td>\n",
              "      <td>294</td>\n",
              "    </tr>\n",
              "    <tr>\n",
              "      <th>2020-04-06</th>\n",
              "      <td>Massachusetts</td>\n",
              "      <td>25</td>\n",
              "      <td>13837</td>\n",
              "      <td>260</td>\n",
              "    </tr>\n",
              "    <tr>\n",
              "      <th>2020-04-06</th>\n",
              "      <td>Florida</td>\n",
              "      <td>12</td>\n",
              "      <td>13621</td>\n",
              "      <td>253</td>\n",
              "    </tr>\n",
              "  </tbody>\n",
              "</table>\n",
              "</div>"
            ],
            "text/plain": [
              "                    state  fips   cases  deaths\n",
              "date                                           \n",
              "2020-04-06       New York    36  130703    4758\n",
              "2020-04-06     New Jersey    34   41090    1005\n",
              "2020-04-06       Michigan    26   17130     727\n",
              "2020-04-06      Louisiana    22   14867     512\n",
              "2020-04-06     California     6   16284     386\n",
              "2020-04-06     Washington    53    8384     383\n",
              "2020-04-06       Illinois    17   12262     309\n",
              "2020-04-06        Georgia    13    7558     294\n",
              "2020-04-06  Massachusetts    25   13837     260\n",
              "2020-04-06        Florida    12   13621     253"
            ]
          },
          "metadata": {
            "tags": []
          },
          "execution_count": 38
        }
      ]
    },
    {
      "cell_type": "markdown",
      "metadata": {
        "id": "OSNzoid28GEX"
      },
      "source": [
        "*There should be 50 states and District of Columbia*"
      ]
    },
    {
      "cell_type": "code",
      "execution_count": 13,
      "metadata": {
        "id": "Ktah9SqV8I3i",
        "outputId": "2b0bb5eb-1186-405a-fb87-0cf89cffe8e0",
        "colab": {
          "base_uri": "https://localhost:8080/",
          "height": 35
        }
      },
      "source": [
        "current_df.shape"
      ],
      "execution_count": null,
      "outputs": [
        {
          "data": {
            "text/plain": [
              "(55, 4)"
            ]
          },
          "metadata": {
            "tags": []
          },
          "execution_count": 39
        }
      ]
    },
    {
      "cell_type": "markdown",
      "metadata": {
        "id": "i_M6NGQk8_2U"
      },
      "source": [
        "### State Based Analysis"
      ]
    },
    {
      "cell_type": "markdown",
      "metadata": {
        "id": "xzGQ9z_oA6V7"
      },
      "source": [
        "*Get 10 states and subset*"
      ]
    },
    {
      "cell_type": "code",
      "execution_count": 14,
      "metadata": {
        "id": "PeicLkAlA9y4",
        "outputId": "319ec37e-6652-4684-fb48-1aa7245f0469",
        "colab": {
          "base_uri": "https://localhost:8080/",
          "height": 197
        }
      },
      "source": [
        "top_ten_states = list(current_df[\"state\"].head(10).values)\n",
        "top_ten_states"
      ],
      "execution_count": null,
      "outputs": [
        {
          "data": {
            "text/plain": [
              "['New York',\n",
              " 'New Jersey',\n",
              " 'Michigan',\n",
              " 'Louisiana',\n",
              " 'California',\n",
              " 'Washington',\n",
              " 'Illinois',\n",
              " 'Georgia',\n",
              " 'Massachusetts',\n",
              " 'Florida']"
            ]
          },
          "metadata": {
            "tags": []
          },
          "execution_count": 40
        }
      ]
    },
    {
      "cell_type": "code",
      "execution_count": 15,
      "metadata": {
        "id": "uzv8KJtx9bFO"
      },
      "outputs": [],
      "source": [
        "top_states_df = df[df['state'].isin(top_ten_states)].drop(columns=\"fips\")"
      ],
      "execution_count": null,
      "outputs": []
    },
    {
      "cell_type": "markdown",
      "metadata": {
        "id": "dkLverBTICn3"
      },
      "source": [
        "*Verify the unique states left is the same 10*"
      ]
    },
    {
      "cell_type": "code",
      "execution_count": 16,
      "metadata": {
        "id": "l3bJzaxyHnD6",
        "outputId": "5f6d40b2-05e2-41b4-9506-a5431c3498c3",
        "colab": {
          "base_uri": "https://localhost:8080/",
          "height": 197
        }
      },
      "source": [
        "set(top_states_df.state.values)"
      ],
      "execution_count": null,
      "outputs": [
        {
          "data": {
            "text/plain": [
              "{'California',\n",
              " 'Florida',\n",
              " 'Georgia',\n",
              " 'Illinois',\n",
              " 'Louisiana',\n",
              " 'Massachusetts',\n",
              " 'Michigan',\n",
              " 'New Jersey',\n",
              " 'New York',\n",
              " 'Washington'}"
            ]
          },
          "metadata": {
            "tags": []
          },
          "execution_count": 41
        }
      ]
    },
    {
      "cell_type": "code",
      "execution_count": 17,
      "metadata": {
        "id": "9ba-QT229CYE",
        "outputId": "cb08520e-7eba-4cf2-fa0d-7365b30518ff",
        "colab": {
          "base_uri": "https://localhost:8080/",
          "height": 502
        }
      },
      "source": [
        "import seaborn as sns\n",
        "import matplotlib.pyplot as plt\n",
        "\n",
        "plt.figure(figsize=(15,5))\n",
        "ax = sns.lmplot(x=\"cases\", y=\"deaths\",\n",
        "                    height=3.5,\n",
        "                    col=\"state\",\n",
        "                    col_wrap=5,\n",
        "                    hue=\"state\",\n",
        "                    palette=\"Set2\",\n",
        "                    data=top_states_df)\n",
        "ax.fig.subplots_adjust(wspace=.2)"
      ],
      "execution_count": null,
      "outputs": [
        {
          "output_type": "display_data",
          "data": {
            "text/plain": [
              "<Figure size 1080x360 with 0 Axes>"
            ]
          },
          "metadata": {
            "tags": []
          }
        },
        {
          "output_type": "display_data",
          "data": {
            "image/png": "iVBORw0KGgoAAAANSUhEUgAABO0AAAHwCAYAAAD6q5v8AAAABHNCSVQICAgIfAhkiAAAAAlwSFlz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\nSZIkSZIkSS3m/wIa03XIxgg9/AAAAABJRU5ErkJggg==\n",
            "text/plain": [
              "<Figure size 1260x504 with 10 Axes>"
            ]
          },
          "metadata": {
            "tags": []
          }
        }
      ]
    },
    {
      "cell_type": "markdown",
      "metadata": {
        "id": "in-JRg0lOCrp"
      },
      "source": [
        "*Interactive plot of top states*"
      ]
    },
    {
      "cell_type": "code",
      "execution_count": null,
      "metadata": {
        "id": "Vf7j4jUBaKMS",
        "outputId": "1ac26832-4bfe-4f23-cd50-be1d8d873f50",
        "colab": {
          "base_uri": "https://localhost:8080/",
          "height": 233
        }
      },
      "source": [
        "top_states_march_current_df = top_states_df.loc[\"2020-03-08\":today].sort_values(by=[\"deaths\", \"cases\"], ascending=True)\n",
        "top_states_march_current_df.head()"
      ],
      "execution_count": null,
      "outputs": [
        {
          "data": {
            "text/plain": [
              "                 state  cases  deaths\n",
              "date                                 \n",
              "2020-03-08  California    112       1\n",
              "2020-03-09  California    172       2\n",
              "2020-03-10  California    179       3\n",
              "2020-03-11  California    202       4\n",
              "2020-03-12  California    252       4"
            ],
            "text/html": [
              "\n",
              "  <div id=\"df-80e43915-9a9c-4ea0-a676-7bc50314665f\" class=\"colab-df-container\">\n",
              "    <div>\n",
              "<style scoped>\n",
              "    .dataframe tbody tr th:only-of-type {\n",
              "        vertical-align: middle;\n",
              "    }\n",
              "\n",
              "    .dataframe tbody tr th {\n",
              "        vertical-align: top;\n",
              "    }\n",
              "\n",
              "    .dataframe thead th {\n",
              "        text-align: right;\n",
              "    }\n",
              "</style>\n",
              "<table border=\"1\" class=\"dataframe\">\n",
              "  <thead>\n",
              "    <tr style=\"text-align: right;\">\n",
              "      <th></th>\n",
              "      <th>state</th>\n",
              "      <th>cases</th>\n",
              "      <th>deaths</th>\n",
              "    </tr>\n",
              "    <tr>\n",
              "      <th>date</th>\n",
              "      <th></th>\n",
              "      <th></th>\n",
              "      <th></th>\n",
              "    </tr>\n",
              "  </thead>\n",
              "  <tbody>\n",
              "    <tr>\n",
              "      <th>2020-03-08</th>\n",
              "      <td>California</td>\n",
              "      <td>112</td>\n",
              "      <td>1</td>\n",
              "    </tr>\n",
              "    <tr>\n",
              "      <th>2020-03-09</th>\n",
              "      <td>California</td>\n",
              "      <td>172</td>\n",
              "      <td>2</td>\n",
              "    </tr>\n",
              "    <tr>\n",
              "      <th>2020-03-10</th>\n",
              "      <td>California</td>\n",
              "      <td>179</td>\n",
              "      <td>3</td>\n",
              "    </tr>\n",
              "    <tr>\n",
              "      <th>2020-03-11</th>\n",
              "      <td>California</td>\n",
              "      <td>202</td>\n",
              "      <td>4</td>\n",
              "    </tr>\n",
              "    <tr>\n",
              "      <th>2020-03-12</th>\n",
              "      <td>California</td>\n",
              "      <td>252</td>\n",
              "      <td>4</td>\n",
              "    </tr>\n",
              "  </tbody>\n",
              "</table>\n",
              "</div>"
            ],
            "text/plain": [
              "                 state  cases  deaths\n",
              "date                                 \n",
              "2020-03-09   Louisiana      1       0\n",
              "2020-03-10    Michigan      2       0\n",
              "2020-03-11    Michigan      2       0\n",
              "2020-03-08  New Jersey      6       0\n",
              "2020-03-10   Louisiana      6       0"
            ]
          },
          "metadata": {
            "tags": []
          },
          "execution_count": 43
        }
      ],
      "source": [
        "top_states_march_current_df = top_states_df.loc[\"2020-03-08\":today].sort_values(by=[\"deaths\", \"cases\"], ascending=True)\n",
        "top_states_march_current_df.head()"
      ]
    },
    {
      "cell_type": "code",
      "execution_count": null,
      "metadata": {
        "id": "D7yg3JizOHIv",
        "outputId": "c61a64f7-d477-4fb5-8a08-f1912449bc01",
        "colab": {
          "base_uri": "https://localhost:8080/",
          "height": 542
        }
      },
      "source": [
        "import plotly.io as pio\n",
        "pio.renderers.default = 'colab'\n",
        "import plotly.express as px\n",
        "fig = px.scatter(top_states_march_current_df, x=top_states_march_current_df.index, y=\"cases\", size=\"deaths\", color=\"state\", facet_col=\"state\")\n",
        "fig.show()"
      ],
      "execution_count": null,
      "outputs": [
        {
          "data": {
            "text/html": [
              "<html>\n",
              "<head><meta charset=\"utf-8\" /></head>\n",
              "<body>\n",
              "    <div>            <script src=\"https://cdnjs.cloudflare.com/ajax/libs/mathjax/2.7.5/MathJax.js?config=TeX-AMS-MML_SVG\"></script><script type=\"text/javascript\">if (window.MathJax && window.MathJax.Hub && window.MathJax.Hub.Config) {window.MathJax.Hub.Config({SVG: {font: \"STIX-Web\"}});}</script>                <script type=\"text/javascript\">window.PlotlyConfig = {MathJaxConfig: 'local'};</script>\n",
              "        <script charset=\"utf-8\" src=\"https://cdn.plot.ly/plotly-2.35.2.min.js\"></script>                <div id=\"34a33bb8-8b92-4715-b6d2-0a856c8b6527\" class=\"plotly-graph-div\" style=\"height:525px; width:100%;\"></div>            <script type=\"text/javascript\">                                    window.PLOTLYENV=window.PLOTLYENV || {};                                    if (document.getElementById(\"34a33bb8-8b92-4715-b6d2-0a856c8b6527\")) {                    Plotly.newPlot(                        \"34a33bb8-8b92-4715-b6d2-0a856c8b6527\",                        [{\"hovertemplate\":\"state=California\\u003cbr\\u003edate=%{x}\\u003cbr\\u003ecases=%{y}\\u003cbr\\u003edeaths=%{marker.size}\\u003cextra\\u003e\\u003c\\u002fextra\\u003e\",\"legendgroup\":\"California\",\"marker\":{\"color\":\"#636efa\",\"size\":[1,2,3,4,4,5,5,6,11,14,17,19,24,28,35,39,52,68,83,104,122,132,147,184,212,247,282,323,351,386,447,506,548,594,632,676,725,778,885,971,1050,1146,1176,1223,1316,1425,1548,1619,1692,1716,1800,1884,1961,2057,2147,2213,2235,2297,2386,2478,2561,2650,2732,2769,2820,2902,3014,3039,3192,3254,3290,3322,3422,3514,3624,3690,3768,3790,3808,3859,3961,4042,4144,4214,4242,4287,4360,4422,4484,4550,4626,4653,4679,4775,4869,4941,4986,5059,5089,5120,5202,5283,5359,5425,5495,5517,5561,5637,5728,5810,5872,5902,5937,5979,6083,6168,6263,6315,6329,6369,6452,6563,6708,6825,6936,7012,7042,7086,7227,7368,7490,7607,7697,7710,7764,7883,8038,8190,8325,8428,8451,8544,8716,8884,9009,9222,9365,9399,9500,9696,9866,10014,10197,10299,10365,10460,10654,10808,10995,11146,11229,11245,11334,11523,11686,11801,11984,12137,12152,12250,12409,12547,12696,12836,12906,12939,13020,13149,13330,13497,13644,13708,13730,13763,13843,13990,14094,14265,14333,14386,14458,14606,14716,14807,14912,15018,15023,15069,15209,15313,15389,15533,15588,15608,15641,15791,15898,15989,16074,16122,16150,16179,16251,16358,16425,16502,16568,16581,16594,16650,16752,16839,16901,16940,16979,16987,17067,17189,17266,17316,17345,17358,17398,17478,17541,17567,17627,17661,17671,17700,17751,17818,17866,17939,17964,17975,18035,18073,18109,18141,18218,18254,18265,18304,18360,18467,18555,18649,18709,18726,18768,18875,18982,19025,19100,19132,19151,19209,19327,19440,19586,19791,19876,19937,20052,20238,20466,20636,20854,20958,21043,21196,21483,21881,22155,22496,22651,22736,22980,23254,23633,23944,23964,24221,24283,24529,24954,25391,25965,26236,26542,26635,26995,27486,28040,28554,29228,29699,30000,30381,31105,31653,32246,32947,33393,33593,33742,34390,35001,35704,36326,36818,37118,37499,38222,38927,39527,40192,40694,40928,41284,41858,42434,43062,43631,43987,44152,44440,44973,45436,45976,46435,46865,47055,47115,47446,47902,48334,48794,49111,49340,49531,49869,50953,51385,51794,51979,52213,52487,52774,53066,53457,53838,54124,54217,54377,54620,54877,55132,55336,56373,56523,56630,56743,56976,57213,57417,57495,57586,57770,57936,58187,58413,58630,58801,58927,59015,59116,59260,59396,59601,59675,59726,59788,59874,59976,60115,60272,60361,60446,60484,60535,60710,60797,60911,60977,61022,61034,61111,61199,61290,61390,61428,61463,61485,61504,61571,61650,61756,61853,61924,61961,62016,62065,62169,62211,62270,62310,62332,62363,62468,62573,62626,62647,62681,62701,62723,62760,62811,62857,62903,62928,62947,62965,62979,63000,63014,63120,63132,63143,63145,63150,63155,63163,63167,63205,63206,63215,63224,63236,63247,63249,63251,63254,63260,63284,63290,63309,63337,63340,63353,63370,63425,63490,63543,63555,63586,63597,63610,63648,63648,63648,63649,63662,63709,63710,63748,63805,63870,63874,63877,63954,63972,64002,64041,64083,64085,64086,64127,64132,64146,64174,64219,64220,64225,64265,64296,64325,64372,64415,64417,64417,64481,64533,64533,64538,64596,64626,64630,64661,64680,64684,64719,64727,64732,64777,64787,64816,64838,64908,65020,65082,65127,65160,65228,65368,65483,65605,65676,65746,65793,65863,65987,66153,66297,66388,66481,66496,66569,66722,66898,67062,67149,67199,67312,67422,67647,67825,67948,68034,68106,68158,68244,68402,68532,68710,68740,68756,68917,68985,69133,69278,69387,69405,69420,69574,69652,69819,69985,70132,70156,70160,70295,70343,70459,70607,70766,70778,70784,70981,71046,71192,71369,71504,71519,71528,71639,71800,71935,72026,72140,72140,72144,72289,72365,72471,72560,72650,72671,72698,72811,72922,73075,73132,73201,73279,73286,73411,73487,73614,73781,73901,73927,73938,74042,74157,74308,74314,74355,74374,74385,74553,74670,74781,74884,74987,75006,75008,75102,75169,75279,75374,75445,75468,75477,75571,75637,75718,75792,75898,75917,75927,76014,76078,76151,76249,76317,76319,76332,76368,76453,76548,76644,76709,76709,76712,76745,76821,76967,77042,77231,77248,77260,77412,77447,77595,77839,77940,77966,78017,78142,78224,78325,78529,78700,78775,78839,79001,79118,79353,79643,79934,80004,80038,80267,80434,80727,80922,81180,81267,81334,81524,81806,82108,82321,82578,82660,82727,83028,83226,83466,83686,83936,84020,84089,84109,84437,84580,84832,85078,85142,85142,85564,85682,85975,86135,86345,86394,86429,86731,86818,87032,87197,87322,87386,87386,87665,87713,87869,88015,88131,88156,88162,88322,88367,88461,88571,88689,88708,88709,88814,88838,88942,89018,89076,89076,89078,89120,89240,89273,89324,89426,89429,89438,89484,89514,89554,89629,89744,89744,89752,89785,89877,89915,89947,90090,90090,90093,90123,90221,90237,90277,90419,90419,90422,90440,90541,90571,90581,90704,90704,90706,90712,90804,90818,90822,90959,90961,90961,90986,91058,91067,91079,91203,91203,91209,91231,91316,91340,91353,91462,91463,91464,91469,91489,91552,91590,91659,91659,91660,91681,91740,91763,91771,91862,91862,91862,91881,91956,91969,92004,92086,92086,92086,92097,92155,92173,92186,92271,92271,92272,92289,92371,92403,92418,92541,92541,92541,92560,92580,92673,92690,92793,92793,92793,92829,92900,92927,92947,93043,93043,93043,93072,93152,93180,93216,93325,93325,93325,93362,93438,93482,93508,93613,93613,93613,93651,93734,93782,93813,93919,93919,93919,93950,94034,94057,94098,94234,94234,94234,94262,94365,94424,94448,94547,94547,94547,94571,94685,94725,94750,94913,94913,94913,94947,94973,95001,95017,95097,95097,95097,95119,95147,95183,95295,95407,95407,95415,95459,95472,95521,95624,95643,95643,95643,95680,95695,95726,95776,95790,95790,95790,95825,95835,95864,96009,96020,96020,96020,96045,96119,96145,96240,96242,96242,96242,96244,96280,96308,96442,96460,96460,96460,96481,96481,96519,96697,96712,96712,96712,96738,96747,96780,96928,96928,96928,96928,96960,96966,96976,97025,97025,97025,97042,97050,97064,97077,97142,99505,99505,99505,99532,99539,99555,99630,99637,99637,99637,99657,99664,99684,99800,99821,99821,99821,99836,99846,99856,99913,99932,99932,99932,99967,99977,100005,100179,100197,100197,100197,100232,100252,100278,100350,100370,100370,100370,100431,100445,100485,100606,100628,100628,100628,100628,100668,100702,100837,100865,100865,100865,100865,100924,101177,101297,101322,101322,101322,101382,101403,101457,101625,101660,101660,101660,101660,101724,101765,101957,101982,101982,101983,102025,102053,102102,102259,102283,102283,102283,102286,102337,102368,102522,102539,102539,102539,102570,102593,102623,102744,102767,102767,102767,102813,102842,102875,102996,103015,103015,103015,103015,103075,103091,103193,103211,103211,103211,103244,103554,103582,103692,103706,103706,103706,103743,103753,103764,103987,103999,103999,103999,104027,104038,104047,104114,104130,104130,104130,104165,104185,104196,104277],\"sizemode\":\"area\",\"sizeref\":260.6925,\"symbol\":\"circle\"},\"mode\":\"markers\",\"name\":\"California\",\"showlegend\":true,\"x\":[\"2020-03-08T00:00:00\",\"2020-03-09T00:00:00\",\"2020-03-10T00:00:00\",\"2020-03-11T00:00:00\",\"2020-03-12T00:00:00\",\"2020-03-13T00:00:00\",\"2020-03-14T00:00:00\",\"2020-03-15T00:00:00\",\"2020-03-16T00:00:00\",\"2020-03-17T00:00:00\",\"2020-03-18T00:00:00\",\"2020-03-19T00:00:00\",\"2020-03-20T00:00:00\",\"2020-03-21T00:00:00\",\"2020-03-22T00:00:00\",\"2020-03-23T00:00:00\",\"2020-03-24T00:00:00\",\"2020-03-25T00:00:00\",\"2020-03-26T00:00:00\",\"2020-03-27T00:00:00\",\"2020-03-28T00:00:00\",\"2020-03-29T00:00:00\",\"2020-03-30T00:00:00\",\"2020-03-31T00:00:00\",\"2020-04-01T00:00:00\",\"2020-04-02T00:00:00\",\"2020-04-03T00:00:00\",\"2020-04-04T00:00:00\",\"2020-04-05T00:00:00\",\"2020-04-06T00:00:00\",\"2020-04-07T00:00:00\",\"2020-04-08T00:00:00\",\"2020-04-09T00:00:00\",\"2020-04-10T00:00:00\",\"2020-04-11T00:00:00\",\"2020-04-12T00:00:00\",\"2020-04-13T00:00:00\",\"2020-04-14T00:00:00\",\"2020-04-15T00:00:00\",\"2020-04-16T00:00:00\",\"2020-04-17T00:00:00\",\"2020-04-18T00:00:00\",\"2020-04-19T00:00:00\",\"2020-04-20T00:00:00\",\"2020-04-21T00:00:00\",\"2020-04-22T00:00:00\",\"2020-04-23T00:00:00\",\"2020-04-24T00:00:00\",\"2020-04-25T00:00:00\",\"2020-04-26T00:00:00\",\"2020-04-27T00:00:00\",\"2020-04-28T00:00:00\",\"2020-04-29T00:00:00\",\"2020-04-30T00:00:00\",\"2020-05-01T00:00:00\",\"2020-05-02T00:00:00\",\"2020-05-03T00:00:00\",\"2020-05-04T00:00:00\",\"2020-05-05T00:00:00\",\"2020-05-06T00:00:00\",\"2020-05-07T00:00:00\",\"2020-05-08T00:00:00\",\"2020-05-09T00:00:00\",\"2020-05-10T00:00:00\",\"2020-05-11T00:00:00\",\"2020-05-12T00:00:00\",\"2020-05-13T00:00:00\",\"2020-05-14T00:00:00\",\"2020-05-15T00:00:00\",\"2020-05-16T00:00:00\",\"2020-05-17T00:00:00\",\"2020-05-18T00:00:00\",\"2020-05-19T00:00:00\",\"2020-05-20T00:00:00\",\"2020-05-21T00:00:00\",\"2020-05-22T00:00:00\",\"2020-05-23T00:00:00\",\"2020-05-24T00:00:00\",\"2020-05-25T00:00:00\",\"2020-05-26T00:00:00\",\"2020-05-27T00:00:00\",\"2020-05-28T00:00:00\",\"2020-05-29T00:00:00\",\"2020-05-30T00:00:00\",\"2020-05-31T00:00:00\",\"2020-06-01T00:00:00\",\"2020-06-02T00:00:00\",\"2020-06-03T00:00:00\",\"2020-06-04T00:00:00\",\"2020-06-05T00:00:00\",\"2020-06-06T00:00:00\",\"2020-06-07T00:00:00\",\"2020-06-08T00:00:00\",\"2020-06-09T00:00:00\",\"2020-06-10T00:00:00\",\"2020-06-11T00:00:00\",\"2020-06-12T00:00:00\",\"2020-06-13T00:00:00\",\"2020-06-14T00:00:00\",\"2020-06-15T00:00:00\",\"2020-06-16T00:00:00\",\"2020-06-17T00:00:00\",\"2020-06-18T00:00:00\",\"2020-06-19T00:00:00\",\"2020-06-20T00:00:00\",\"2020-06-21T00:00:00\",\"2020-06-22T00:00:00\",\"2020-06-23T00:00:00\",\"2020-06-24T00:00:00\",\"2020-06-25T00:00:00\",\"2020-06-26T00:00:00\",\"2020-06-27T00:00:00\",\"2020-06-28T00:00:00\",\"2020-06-29T00:00:00\",\"2020-06-30T00:00:00\",\"2020-07-01T00:00:00\",\"2020-07-02T00:00:00\",\"2020-07-03T00:00:00\",\"2020-07-04T00:00:00\",\"2020-07-05T00:00:00\",\"2020-07-06T00:00:00\",\"2020-07-07T00:00:00\",\"2020-07-08T00:00:00\",\"2020-07-09T00:00:00\",\"2020-07-10T00:00:00\",\"2020-07-11T00:00:00\",\"2020-07-12T00:00:00\",\"2020-07-13T00:00:00\",\"2020-07-14T00:00:00\",\"2020-07-15T00:00:00\",\"2020-07-16T00:00:00\",\"2020-07-17T00:00:00\",\"2020-07-18T00:00:00\",\"2020-07-19T00:00:00\",\"2020-07-20T00:00:00\",\"2020-07-21T00:00:00\",\"2020-07-22T00:00:00\",\"2020-07-23T00:00:00\",\"2020-07-24T00:00:00\",\"2020-07-25T00:00:00\",\"2020-07-26T00:00:00\",\"2020-07-27T00:00:00\",\"2020-07-28T00:00:00\",\"2020-07-29T00:00:00\",\"2020-07-30T00:00:00\",\"2020-07-31T00:00:00\",\"2020-08-01T00:00:00\",\"2020-08-02T00:00:00\",\"2020-08-03T00:00:00\",\"2020-08-04T00:00:00\",\"2020-08-05T00:00:00\",\"2020-08-06T00:00:00\",\"2020-08-07T00:00:00\",\"2020-08-08T00:00:00\",\"2020-08-09T00:00:00\",\"2020-08-10T00:00:00\",\"2020-08-11T00:00:00\",\"2020-08-12T00:00:00\",\"2020-08-13T00:00:00\",\"2020-08-14T00:00:00\",\"2020-08-15T00:00:00\",\"2020-08-16T00:00:00\",\"2020-08-17T00:00:00\",\"2020-08-18T00:00:00\",\"2020-08-19T00:00:00\",\"2020-08-20T00:00:00\",\"2020-08-21T00:00:00\",\"2020-08-22T00:00:00\",\"2020-08-23T00:00:00\",\"2020-08-24T00:00:00\",\"2020-08-25T00:00:00\",\"2020-08-26T00:00:00\",\"2020-08-27T00:00:00\",\"2020-08-28T00:00:00\",\"2020-08-29T00:00:00\",\"2020-08-30T00:00:00\",\"2020-08-31T00:00:00\",\"2020-09-01T00:00:00\",\"2020-09-02T00:00:00\",\"2020-09-03T00:00:00\",\"2020-09-04T00:00:00\",\"2020-09-05T00:00:00\",\"2020-09-06T00:00:00\",\"2020-09-07T00:00:00\",\"2020-09-08T00:00:00\",\"2020-09-09T00:00:00\",\"2020-09-10T00:00:00\",\"2020-09-11T00:00:00\",\"2020-09-12T00:00:00\",\"2020-09-13T00:00:00\",\"2020-09-14T00:00:00\",\"2020-09-15T00:00:00\",\"2020-09-16T00:00:00\",\"2020-09-17T00:00:00\",\"2020-09-18T00:00:00\",\"2020-09-20T00:00:00\",\"2020-09-19T00:00:00\",\"2020-09-21T00:00:00\",\"2020-09-22T00:00:00\",\"2020-09-23T00:00:00\",\"2020-09-24T00:00:00\",\"2020-09-25T00:00:00\",\"2020-09-26T00:00:00\",\"2020-09-27T00:00:00\",\"2020-09-28T00:00:00\",\"2020-09-29T00:00:00\",\"2020-09-30T00:00:00\",\"2020-10-01T00:00:00\",\"2020-10-02T00:00:00\",\"2020-10-03T00:00:00\",\"2020-10-04T00:00:00\",\"2020-10-05T00:00:00\",\"2020-10-06T00:00:00\",\"2020-10-07T00:00:00\",\"2020-10-08T00:00:00\",\"2020-10-09T00:00:00\",\"2020-10-10T00:00:00\",\"2020-10-11T00:00:00\",\"2020-10-12T00:00:00\",\"2020-10-13T00:00:00\",\"2020-10-14T00:00:00\",\"2020-10-15T00:00:00\",\"2020-10-16T00:00:00\",\"2020-10-17T00:00:00\",\"2020-10-18T00:00:00\",\"2020-10-19T00:00:00\",\"2020-10-20T00:00:00\",\"2020-10-21T00:00:00\",\"2020-10-22T00:00:00\",\"2020-10-23T00:00:00\",\"2020-10-24T00:00:00\",\"2020-10-25T00:00:00\",\"2020-10-26T00:00:00\",\"2020-10-27T00:00:00\",\"2020-10-28T00:00:00\",\"2020-10-29T00:00:00\",\"2020-10-30T00:00:00\",\"2020-10-31T00:00:00\",\"2020-11-01T00:00:00\",\"2020-11-02T00:00:00\",\"2020-11-03T00:00:00\",\"2020-11-04T00:00:00\",\"2020-11-05T00:00:00\",\"2020-11-06T00:00:00\",\"2020-11-07T00:00:00\",\"2020-11-08T00:00:00\",\"2020-11-09T00:00:00\",\"2020-11-10T00:00:00\",\"2020-11-11T00:00:00\",\"2020-11-12T00:00:00\",\"2020-11-13T00:00:00\",\"2020-11-14T00:00:00\",\"2020-11-15T00:00:00\",\"2020-11-16T00:00:00\",\"2020-11-17T00:00:00\",\"2020-11-18T00:00:00\",\"2020-11-19T00:00:00\",\"2020-11-20T00:00:00\",\"2020-11-21T00:00:00\",\"2020-11-22T00:00:00\",\"2020-11-23T00:00:00\",\"2020-11-24T00:00:00\",\"2020-11-25T00:00:00\",\"2020-11-26T00:00:00\",\"2020-11-27T00:00:00\",\"2020-11-28T00:00:00\",\"2020-11-29T00:00:00\",\"2020-11-30T00:00:00\",\"2020-12-01T00:00:00\",\"2020-12-02T00:00:00\",\"2020-12-03T00:00:00\",\"2020-12-04T00:00:00\",\"2020-12-05T00:00:00\",\"2020-12-06T00:00:00\",\"2020-12-07T00:00:00\",\"2020-12-08T00:00:00\",\"2020-12-09T00:00:00\",\"2020-12-10T00:00:00\",\"2020-12-11T00:00:00\",\"2020-12-12T00:00:00\",\"2020-12-13T00:00:00\",\"2020-12-14T00:00:00\",\"2020-12-15T00:00:00\",\"2020-12-16T00:00:00\",\"2020-12-17T00:00:00\",\"2020-12-18T00:00:00\",\"2020-12-19T00:00:00\",\"2020-12-20T00:00:00\",\"2020-12-21T00:00:00\",\"2020-12-22T00:00:00\",\"2020-12-23T00:00:00\",\"2020-12-24T00:00:00\",\"2020-12-25T00:00:00\",\"2020-12-26T00:00:00\",\"2020-12-27T00:00:00\",\"2020-12-28T00:00:00\",\"2020-12-29T00:00:00\",\"2020-12-30T00:00:00\",\"2020-12-31T00:00:00\",\"2021-01-01T00:00:00\",\"2021-01-02T00:00:00\",\"2021-01-03T00:00:00\",\"2021-01-04T00:00:00\",\"2021-01-05T00:00:00\",\"2021-01-06T00:00:00\",\"2021-01-07T00:00:00\",\"2021-01-08T00:00:00\",\"2021-01-09T00:00:00\",\"2021-01-10T00:00:00\",\"2021-01-11T00:00:00\",\"2021-01-12T00:00:00\",\"2021-01-13T00:00:00\",\"2021-01-14T00:00:00\",\"2021-01-15T00:00:00\",\"2021-01-16T00:00:00\",\"2021-01-17T00:00:00\",\"2021-01-18T00:00:00\",\"2021-01-19T00:00:00\",\"2021-01-20T00:00:00\",\"2021-01-21T00:00:00\",\"2021-01-22T00:00:00\",\"2021-01-23T00:00:00\",\"2021-01-24T00:00:00\",\"2021-01-25T00:00:00\",\"2021-01-26T00:00:00\",\"2021-01-27T00:00:00\",\"2021-01-28T00:00:00\",\"2021-01-29T00:00:00\",\"2021-01-30T00:00:00\",\"2021-01-31T00:00:00\",\"2021-02-01T00:00:00\",\"2021-02-02T00:00:00\",\"2021-02-03T00:00:00\",\"2021-02-04T00:00:00\",\"2021-02-05T00:00:00\",\"2021-02-06T00:00:00\",\"2021-02-07T00:00:00\",\"2021-02-08T00:00:00\",\"2021-02-09T00:00:00\",\"2021-02-10T00:00:00\",\"2021-02-11T00:00:00\",\"2021-02-12T00:00:00\",\"2021-02-13T00:00:00\",\"2021-02-14T00:00:00\",\"2021-02-15T00:00:00\",\"2021-02-16T00:00:00\",\"2021-02-17T00:00:00\",\"2021-02-18T00:00:00\",\"2021-02-19T00:00:00\",\"2021-02-20T00:00:00\",\"2021-02-21T00:00:00\",\"2021-02-22T00:00:00\",\"2021-02-23T00:00:00\",\"2021-02-24T00:00:00\",\"2021-02-25T00:00:00\",\"2021-02-26T00:00:00\",\"2021-02-27T00:00:00\",\"2021-02-28T00:00:00\",\"2021-03-01T00:00:00\",\"2021-03-02T00:00:00\",\"2021-03-03T00:00:00\",\"2021-03-04T00:00:00\",\"2021-03-05T00:00:00\",\"2021-03-06T00:00:00\",\"2021-03-07T00:00:00\",\"2021-03-08T00:00:00\",\"2021-03-09T00:00:00\",\"2021-03-10T00:00:00\",\"2021-03-11T00:00:00\",\"2021-03-12T00:00:00\",\"2021-03-13T00:00:00\",\"2021-03-14T00:00:00\",\"2021-03-15T00:00:00\",\"2021-03-16T00:00:00\",\"2021-03-17T00:00:00\",\"2021-03-18T00:00:00\",\"2021-03-19T00:00:00\",\"2021-03-20T00:00:00\",\"2021-03-21T00:00:00\",\"2021-03-22T00:00:00\",\"2021-03-23T00:00:00\",\"2021-03-24T00:00:00\",\"2021-03-25T00:00:00\",\"2021-03-26T00:00:00\",\"2021-03-27T00:00:00\",\"2021-03-28T00:00:00\",\"2021-03-29T00:00:00\",\"2021-03-30T00:00:00\",\"2021-03-31T00:00:00\",\"2021-04-01T00:00:00\",\"2021-04-02T00:00:00\",\"2021-04-03T00:00:00\",\"2021-04-04T00:00:00\",\"2021-04-05T00:00:00\",\"2021-04-06T00:00:00\",\"2021-04-07T00:00:00\",\"2021-04-08T00:00:00\",\"2021-04-09T00:00:00\",\"2021-04-10T00:00:00\",\"2021-04-11T00:00:00\",\"2021-04-12T00:00:00\",\"2021-04-13T00:00:00\",\"2021-04-14T00:00:00\",\"2021-04-15T00:00:00\",\"2021-04-16T00:00:00\",\"2021-04-17T00:00:00\",\"2021-04-18T00:00:00\",\"2021-04-19T00:00:00\",\"2021-04-20T00:00:00\",\"2021-04-21T00:00:00\",\"2021-04-22T00:00:00\",\"2021-04-23T00:00:00\",\"2021-04-24T00:00:00\",\"2021-04-25T00:00:00\",\"2021-04-26T00:00:00\",\"2021-04-27T00:00:00\",\"2021-04-28T00:00:00\",\"2021-04-29T00:00:00\",\"2021-04-30T00:00:00\",\"2021-05-01T00:00:00\",\"2021-05-02T00:00:00\",\"2021-05-03T00:00:00\",\"2021-05-04T00:00:00\",\"2021-05-05T00:00:00\",\"2021-05-06T00:00:00\",\"2021-05-07T00:00:00\",\"2021-05-08T00:00:00\",\"2021-05-09T00:00:00\",\"2021-05-10T00:00:00\",\"2021-05-11T00:00:00\",\"2021-05-12T00:00:00\",\"2021-05-13T00:00:00\",\"2021-05-14T00:00:00\",\"2021-05-15T00:00:00\",\"2021-05-16T00:00:00\",\"2021-05-17T00:00:00\",\"2021-05-18T00:00:00\",\"2021-05-19T00:00:00\",\"2021-05-20T00:00:00\",\"2021-05-21T00:00:00\",\"2021-05-22T00:00:00\",\"2021-05-23T00:00:00\",\"2021-05-24T00:00:00\",\"2021-06-04T00:00:00\",\"2021-05-25T00:00:00\",\"2021-06-05T00:00:00\",\"2021-05-26T00:00:00\",\"2021-06-06T00:00:00\",\"2021-06-07T00:00:00\",\"2021-06-12T00:00:00\",\"2021-06-13T00:00:00\",\"2021-06-14T00:00:00\",\"2021-06-08T00:00:00\",\"2021-05-27T00:00:00\",\"2021-06-09T00:00:00\",\"2021-06-15T00:00:00\",\"2021-06-10T00:00:00\",\"2021-05-28T00:00:00\",\"2021-06-16T00:00:00\",\"2021-05-29T00:00:00\",\"2021-05-30T00:00:00\",\"2021-05-31T00:00:00\",\"2021-06-11T00:00:00\",\"2021-06-17T00:00:00\",\"2021-06-01T00:00:00\",\"2021-06-02T00:00:00\",\"2021-06-18T00:00:00\",\"2021-06-19T00:00:00\",\"2021-06-20T00:00:00\",\"2021-06-03T00:00:00\",\"2021-06-21T00:00:00\",\"2021-06-22T00:00:00\",\"2021-06-23T00:00:00\",\"2021-06-24T00:00:00\",\"2021-06-25T00:00:00\",\"2021-06-26T00:00:00\",\"2021-06-27T00:00:00\",\"2021-06-28T00:00:00\",\"2021-06-29T00:00:00\",\"2021-07-03T00:00:00\",\"2021-07-04T00:00:00\",\"2021-07-05T00:00:00\",\"2021-07-02T00:00:00\",\"2021-06-30T00:00:00\",\"2021-07-01T00:00:00\",\"2021-07-06T00:00:00\",\"2021-07-07T00:00:00\",\"2021-07-08T00:00:00\",\"2021-07-09T00:00:00\",\"2021-07-10T00:00:00\",\"2021-07-11T00:00:00\",\"2021-07-12T00:00:00\",\"2021-07-13T00:00:00\",\"2021-07-14T00:00:00\",\"2021-07-15T00:00:00\",\"2021-07-16T00:00:00\",\"2021-07-17T00:00:00\",\"2021-07-18T00:00:00\",\"2021-07-19T00:00:00\",\"2021-07-20T00:00:00\",\"2021-07-21T00:00:00\",\"2021-07-22T00:00:00\",\"2021-07-23T00:00:00\",\"2021-07-24T00:00:00\",\"2021-07-25T00:00:00\",\"2021-07-26T00:00:00\",\"2021-07-27T00:00:00\",\"2021-07-28T00:00:00\",\"2021-07-29T00:00:00\",\"2021-07-30T00:00:00\",\"2021-07-31T00:00:00\",\"2021-08-01T00:00:00\",\"2021-08-11T00:00:00\",\"2021-08-03T00:00:00\",\"2021-08-12T00:00:00\",\"2021-08-02T00:00:00\",\"2021-08-13T00:00:00\",\"2021-08-04T00:00:00\",\"2021-08-14T00:00:00\",\"2021-08-15T00:00:00\",\"2021-08-05T00:00:00\",\"2021-08-16T00:00:00\",\"2021-08-06T00:00:00\",\"2021-08-17T00:00:00\",\"2021-08-07T00:00:00\",\"2021-08-08T00:00:00\",\"2021-08-09T00:00:00\",\"2021-08-18T00:00:00\",\"2021-08-10T00:00:00\",\"2021-08-19T00:00:00\",\"2021-08-20T00:00:00\",\"2021-08-21T00:00:00\",\"2021-08-22T00:00:00\",\"2021-08-23T00:00:00\",\"2021-08-24T00:00:00\",\"2021-08-25T00:00:00\",\"2021-08-26T00:00:00\",\"2021-08-27T00:00:00\",\"2021-08-28T00:00:00\",\"2021-08-29T00:00:00\",\"2021-08-30T00:00:00\",\"2021-08-31T00:00:00\",\"2021-09-01T00:00:00\",\"2021-09-02T00:00:00\",\"2021-09-03T00:00:00\",\"2021-09-04T00:00:00\",\"2021-09-05T00:00:00\",\"2021-09-06T00:00:00\",\"2021-09-07T00:00:00\",\"2021-09-08T00:00:00\",\"2021-09-09T00:00:00\",\"2021-09-10T00:00:00\",\"2021-09-11T00:00:00\",\"2021-09-12T00:00:00\",\"2021-09-13T00:00:00\",\"2021-09-14T00:00:00\",\"2021-09-15T00:00:00\",\"2021-09-16T00:00:00\",\"2021-09-17T00:00:00\",\"2021-09-18T00:00:00\",\"2021-09-19T00:00:00\",\"2021-09-20T00:00:00\",\"2021-09-21T00:00:00\",\"2021-09-22T00:00:00\",\"2021-09-23T00:00:00\",\"2021-09-24T00:00:00\",\"2021-09-25T00:00:00\",\"2021-09-26T00:00:00\",\"2021-09-27T00:00:00\",\"2021-09-28T00:00:00\",\"2021-09-29T00:00:00\",\"2021-09-30T00:00:00\",\"2021-10-01T00:00:00\",\"2021-10-02T00:00:00\",\"2021-10-03T00:00:00\",\"2021-10-04T00:00:00\",\"2021-10-05T00:00:00\",\"2021-10-06T00:00:00\",\"2021-10-07T00:00:00\",\"2021-10-08T00:00:00\",\"2021-10-09T00:00:00\",\"2021-10-10T00:00:00\",\"2021-10-11T00:00:00\",\"2021-10-12T00:00:00\",\"2021-10-13T00:00:00\",\"2021-10-14T00:00:00\",\"2021-10-15T00:00:00\",\"2021-10-16T00:00:00\",\"2021-10-17T00:00:00\",\"2021-10-18T00:00:00\",\"2021-10-19T00:00:00\",\"2021-10-20T00:00:00\",\"2021-10-21T00:00:00\",\"2021-10-22T00:00:00\",\"2021-10-23T00:00:00\",\"2021-10-24T00:00:00\",\"2021-10-25T00:00:00\",\"2021-10-26T00:00:00\",\"2021-10-27T00:00:00\",\"2021-10-28T00:00:00\",\"2021-10-29T00:00:00\",\"2021-10-31T00:00:00\",\"2021-10-30T00:00:00\",\"2021-11-01T00:00:00\",\"2021-11-02T00:00:00\",\"2021-11-03T00:00:00\",\"2021-11-04T00:00:00\",\"2021-11-05T00:00:00\",\"2021-11-06T00:00:00\",\"2021-11-07T00:00:00\",\"2021-11-08T00:00:00\",\"2021-11-09T00:00:00\",\"2021-11-10T00:00:00\",\"2021-11-11T00:00:00\",\"2021-11-12T00:00:00\",\"2021-11-13T00:00:00\",\"2021-11-14T00:00:00\",\"2021-11-15T00:00:00\",\"2021-11-16T00:00:00\",\"2021-11-17T00:00:00\",\"2021-11-18T00:00:00\",\"2021-11-19T00:00:00\",\"2021-11-20T00:00:00\",\"2021-11-21T00:00:00\",\"2021-11-22T00:00:00\",\"2021-11-23T00:00:00\",\"2021-11-24T00:00:00\",\"2021-11-25T00:00:00\",\"2021-11-26T00:00:00\",\"2021-11-27T00:00:00\",\"2021-11-28T00:00:00\",\"2021-11-29T00:00:00\",\"2021-11-30T00:00:00\",\"2021-12-01T00:00:00\",\"2021-12-02T00:00:00\",\"2021-12-03T00:00:00\",\"2021-12-04T00:00:00\",\"2021-12-05T00:00:00\",\"2021-12-06T00:00:00\",\"2021-12-07T00:00:00\",\"2021-12-08T00:00:00\",\"2021-12-09T00:00:00\",\"2021-12-10T00:00:00\",\"2021-12-11T00:00:00\",\"2021-12-12T00:00:00\",\"2021-12-13T00:00:00\",\"2021-12-14T00:00:00\",\"2021-12-15T00:00:00\",\"2021-12-16T00:00:00\",\"2021-12-17T00:00:00\",\"2021-12-18T00:00:00\",\"2021-12-19T00:00:00\",\"2021-12-20T00:00:00\",\"2021-12-21T00:00:00\",\"2021-12-22T00:00:00\",\"2021-12-23T00:00:00\",\"2021-12-24T00:00:00\",\"2021-12-25T00:00:00\",\"2021-12-26T00:00:00\",\"2021-12-27T00:00:00\",\"2021-12-28T00:00:00\",\"2021-12-29T00:00:00\",\"2021-12-30T00:00:00\",\"2021-12-31T00:00:00\",\"2022-01-01T00:00:00\",\"2022-01-02T00:00:00\",\"2022-01-03T00:00:00\",\"2022-01-04T00:00:00\",\"2022-01-05T00:00:00\",\"2022-01-06T00:00:00\",\"2022-01-07T00:00:00\",\"2022-01-08T00:00:00\",\"2022-01-09T00:00:00\",\"2022-01-10T00:00:00\",\"2022-01-11T00:00:00\",\"2022-01-12T00:00:00\",\"2022-01-13T00:00:00\",\"2022-01-14T00:00:00\",\"2022-01-15T00:00:00\",\"2022-01-16T00:00:00\",\"2022-01-17T00:00:00\",\"2022-01-18T00:00:00\",\"2022-01-19T00:00:00\",\"2022-01-20T00:00:00\",\"2022-01-21T00:00:00\",\"2022-01-22T00:00:00\",\"2022-01-23T00:00:00\",\"2022-01-24T00:00:00\",\"2022-01-25T00:00:00\",\"2022-01-26T00:00:00\",\"2022-01-27T00:00:00\",\"2022-01-28T00:00:00\",\"2022-01-29T00:00:00\",\"2022-01-30T00:00:00\",\"2022-01-31T00:00:00\",\"2022-02-01T00:00:00\",\"2022-02-02T00:00:00\",\"2022-02-03T00:00:00\",\"2022-02-04T00:00:00\",\"2022-02-05T00:00:00\",\"2022-02-06T00:00:00\",\"2022-02-07T00:00:00\",\"2022-02-08T00:00:00\",\"2022-02-09T00:00:00\",\"2022-02-10T00:00:00\",\"2022-02-11T00:00:00\",\"2022-02-12T00:00:00\",\"2022-02-13T00:00:00\",\"2022-02-14T00:00:00\",\"2022-02-15T00:00:00\",\"2022-02-16T00:00:00\",\"2022-02-17T00:00:00\",\"2022-02-18T00:00:00\",\"2022-02-19T00:00:00\",\"2022-02-20T00:00:00\",\"2022-02-21T00:00:00\",\"2022-02-22T00:00:00\",\"2022-02-23T00:00:00\",\"2022-02-24T00:00:00\",\"2022-02-25T00:00:00\",\"2022-02-26T00:00:00\",\"2022-02-27T00:00:00\",\"2022-02-28T00:00:00\",\"2022-03-01T00:00:00\",\"2022-03-02T00:00:00\",\"2022-03-03T00:00:00\",\"2022-03-04T00:00:00\",\"2022-03-05T00:00:00\",\"2022-03-06T00:00:00\",\"2022-03-07T00:00:00\",\"2022-03-08T00:00:00\",\"2022-03-09T00:00:00\",\"2022-03-10T00:00:00\",\"2022-03-11T00:00:00\",\"2022-03-12T00:00:00\",\"2022-03-13T00:00:00\",\"2022-03-14T00:00:00\",\"2022-03-15T00:00:00\",\"2022-03-16T00:00:00\",\"2022-03-17T00:00:00\",\"2022-03-18T00:00:00\",\"2022-03-19T00:00:00\",\"2022-03-20T00:00:00\",\"2022-03-21T00:00:00\",\"2022-03-22T00:00:00\",\"2022-03-23T00:00:00\",\"2022-03-24T00:00:00\",\"2022-03-25T00:00:00\",\"2022-03-26T00:00:00\",\"2022-03-27T00:00:00\",\"2022-03-28T00:00:00\",\"2022-03-29T00:00:00\",\"2022-03-30T00:00:00\",\"2022-03-31T00:00:00\",\"2022-04-01T00:00:00\",\"2022-04-02T00:00:00\",\"2022-04-03T00:00:00\",\"2022-04-04T00:00:00\",\"2022-04-05T00:00:00\",\"2022-04-06T00:00:00\",\"2022-04-07T00:00:00\",\"2022-04-08T00:00:00\",\"2022-04-09T00:00:00\",\"2022-04-10T00:00:00\",\"2022-04-11T00:00:00\",\"2022-04-12T00:00:00\",\"2022-04-13T00:00:00\",\"2022-04-14T00:00:00\",\"2022-04-15T00:00:00\",\"2022-04-16T00:00:00\",\"2022-04-17T00:00:00\",\"2022-04-18T00:00:00\",\"2022-04-19T00:00:00\",\"2022-04-20T00:00:00\",\"2022-04-21T00:00:00\",\"2022-04-22T00:00:00\",\"2022-04-23T00:00:00\",\"2022-04-24T00:00:00\",\"2022-04-25T00:00:00\",\"2022-04-26T00:00:00\",\"2022-04-27T00:00:00\",\"2022-04-28T00:00:00\",\"2022-04-29T00:00:00\",\"2022-04-30T00:00:00\",\"2022-05-01T00:00:00\",\"2022-05-02T00:00:00\",\"2022-05-03T00:00:00\",\"2022-05-04T00:00:00\",\"2022-05-05T00:00:00\",\"2022-05-06T00:00:00\",\"2022-05-07T00:00:00\",\"2022-05-08T00:00:00\",\"2022-05-09T00:00:00\",\"2022-05-11T00:00:00\",\"2022-05-12T00:00:00\",\"2022-05-10T00:00:00\",\"2022-05-13T00:00:00\",\"2022-05-14T00:00:00\",\"2022-05-15T00:00:00\",\"2022-05-16T00:00:00\",\"2022-05-17T00:00:00\",\"2022-05-18T00:00:00\",\"2022-05-19T00:00:00\",\"2022-05-20T00:00:00\",\"2022-05-21T00:00:00\",\"2022-05-22T00:00:00\",\"2022-05-23T00:00:00\",\"2022-05-24T00:00:00\",\"2022-05-25T00:00:00\",\"2022-05-26T00:00:00\",\"2022-05-27T00:00:00\",\"2022-05-28T00:00:00\",\"2022-05-29T00:00:00\",\"2022-05-30T00:00:00\",\"2022-05-31T00:00:00\",\"2022-06-01T00:00:00\",\"2022-06-02T00:00:00\",\"2022-06-04T00:00:00\",\"2022-06-05T00:00:00\",\"2022-06-03T00:00:00\",\"2022-06-06T00:00:00\",\"2022-06-07T00:00:00\",\"2022-06-08T00:00:00\",\"2022-06-09T00:00:00\",\"2022-06-10T00:00:00\",\"2022-06-11T00:00:00\",\"2022-06-12T00:00:00\",\"2022-06-13T00:00:00\",\"2022-06-14T00:00:00\",\"2022-06-15T00:00:00\",\"2022-06-16T00:00:00\",\"2022-06-17T00:00:00\",\"2022-06-18T00:00:00\",\"2022-06-19T00:00:00\",\"2022-06-20T00:00:00\",\"2022-06-21T00:00:00\",\"2022-06-22T00:00:00\",\"2022-06-23T00:00:00\",\"2022-06-24T00:00:00\",\"2022-06-25T00:00:00\",\"2022-06-26T00:00:00\",\"2022-06-27T00:00:00\",\"2022-06-28T00:00:00\",\"2022-06-29T00:00:00\",\"2022-06-30T00:00:00\",\"2022-07-01T00:00:00\",\"2022-07-02T00:00:00\",\"2022-07-03T00:00:00\",\"2022-07-04T00:00:00\",\"2022-07-05T00:00:00\",\"2022-07-06T00:00:00\",\"2022-07-07T00:00:00\",\"2022-07-08T00:00:00\",\"2022-07-09T00:00:00\",\"2022-07-10T00:00:00\",\"2022-07-11T00:00:00\",\"2022-07-12T00:00:00\",\"2022-07-13T00:00:00\",\"2022-07-14T00:00:00\",\"2022-07-15T00:00:00\",\"2022-07-16T00:00:00\",\"2022-07-17T00:00:00\",\"2022-07-18T00:00:00\",\"2022-07-19T00:00:00\",\"2022-07-20T00:00:00\",\"2022-07-21T00:00:00\",\"2022-07-22T00:00:00\",\"2022-07-23T00:00:00\",\"2022-07-24T00:00:00\",\"2022-07-25T00:00:00\",\"2022-07-26T00:00:00\",\"2022-07-27T00:00:00\",\"2022-07-28T00:00:00\",\"2022-07-29T00:00:00\",\"2022-07-30T00:00:00\",\"2022-07-31T00:00:00\",\"2022-08-01T00:00:00\",\"2022-08-02T00:00:00\",\"2022-08-03T00:00:00\",\"2022-08-04T00:00:00\",\"2022-08-05T00:00:00\",\"2022-08-06T00:00:00\",\"2022-08-07T00:00:00\",\"2022-08-08T00:00:00\",\"2022-08-09T00:00:00\",\"2022-08-10T00:00:00\",\"2022-08-11T00:00:00\",\"2022-08-12T00:00:00\",\"2022-08-13T00:00:00\",\"2022-08-14T00:00:00\",\"2022-08-15T00:00:00\",\"2022-08-16T00:00:00\",\"2022-08-17T00:00:00\",\"2022-08-18T00:00:00\",\"2022-08-19T00:00:00\",\"2022-08-20T00:00:00\",\"2022-08-21T00:00:00\",\"2022-08-22T00:00:00\",\"2022-08-23T00:00:00\",\"2022-08-24T00:00:00\",\"2022-08-25T00:00:00\",\"2022-08-26T00:00:00\",\"2022-08-27T00:00:00\",\"2022-08-28T00:00:00\",\"2022-08-29T00:00:00\",\"2022-08-30T00:00:00\",\"2022-08-31T00:00:00\",\"2022-09-01T00:00:00\",\"2022-09-02T00:00:00\",\"2022-09-03T00:00:00\",\"2022-09-04T00:00:00\",\"2022-09-05T00:00:00\",\"2022-09-06T00:00:00\",\"2022-09-07T00:00:00\",\"2022-09-08T00:00:00\",\"2022-09-09T00:00:00\",\"2022-09-10T00:00:00\",\"2022-09-11T00:00:00\",\"2022-09-12T00:00:00\",\"2022-09-13T00:00:00\",\"2022-09-14T00:00:00\",\"2022-09-15T00:00:00\",\"2022-09-16T00:00:00\",\"2022-09-17T00:00:00\",\"2022-09-18T00:00:00\",\"2022-09-19T00:00:00\",\"2022-09-20T00:00:00\",\"2022-09-21T00:00:00\",\"2022-09-22T00:00:00\",\"2022-09-23T00:00:00\",\"2022-09-24T00:00:00\",\"2022-09-25T00:00:00\",\"2022-09-26T00:00:00\",\"2022-09-27T00:00:00\",\"2022-09-28T00:00:00\",\"2022-09-29T00:00:00\",\"2022-09-30T00:00:00\",\"2022-10-01T00:00:00\",\"2022-10-02T00:00:00\",\"2022-10-03T00:00:00\",\"2022-10-04T00:00:00\",\"2022-10-05T00:00:00\",\"2022-10-06T00:00:00\",\"2022-10-07T00:00:00\",\"2022-10-08T00:00:00\",\"2022-10-09T00:00:00\",\"2022-10-10T00:00:00\",\"2022-10-11T00:00:00\",\"2022-10-12T00:00:00\",\"2022-10-13T00:00:00\",\"2022-10-14T00:00:00\",\"2022-10-15T00:00:00\",\"2022-10-16T00:00:00\",\"2022-10-17T00:00:00\",\"2022-10-18T00:00:00\",\"2022-10-19T00:00:00\",\"2022-10-20T00:00:00\",\"2022-10-21T00:00:00\",\"2022-10-22T00:00:00\",\"2022-10-23T00:00:00\",\"2022-10-24T00:00:00\",\"2022-10-25T00:00:00\",\"2022-10-26T00:00:00\",\"2022-10-27T00:00:00\",\"2022-10-28T00:00:00\",\"2022-10-29T00:00:00\",\"2022-10-30T00:00:00\",\"2022-10-31T00:00:00\",\"2022-11-01T00:00:00\",\"2022-11-02T00:00:00\",\"2022-11-04T00:00:00\",\"2022-11-05T00:00:00\",\"2022-11-06T00:00:00\",\"2022-11-07T00:00:00\",\"2022-11-08T00:00:00\",\"2022-11-03T00:00:00\",\"2022-11-09T00:00:00\",\"2022-11-10T00:00:00\",\"2022-11-11T00:00:00\",\"2022-11-12T00:00:00\",\"2022-11-13T00:00:00\",\"2022-11-14T00:00:00\",\"2022-11-15T00:00:00\",\"2022-11-16T00:00:00\",\"2022-11-17T00:00:00\",\"2022-11-18T00:00:00\",\"2022-11-19T00:00:00\",\"2022-11-20T00:00:00\",\"2022-11-21T00:00:00\",\"2022-11-22T00:00:00\",\"2022-11-23T00:00:00\",\"2022-11-24T00:00:00\",\"2022-11-25T00:00:00\",\"2022-11-26T00:00:00\",\"2022-11-27T00:00:00\",\"2022-11-28T00:00:00\",\"2022-11-29T00:00:00\",\"2022-11-30T00:00:00\",\"2022-12-01T00:00:00\",\"2022-12-02T00:00:00\",\"2022-12-03T00:00:00\",\"2022-12-04T00:00:00\",\"2022-12-05T00:00:00\",\"2022-12-06T00:00:00\",\"2022-12-07T00:00:00\",\"2022-12-08T00:00:00\",\"2022-12-09T00:00:00\",\"2022-12-10T00:00:00\",\"2022-12-11T00:00:00\",\"2022-12-12T00:00:00\",\"2022-12-13T00:00:00\",\"2022-12-14T00:00:00\",\"2022-12-15T00:00:00\",\"2022-12-16T00:00:00\",\"2022-12-17T00:00:00\",\"2022-12-18T00:00:00\",\"2022-12-19T00:00:00\",\"2022-12-20T00:00:00\",\"2022-12-21T00:00:00\",\"2022-12-22T00:00:00\",\"2022-12-23T00:00:00\",\"2022-12-24T00:00:00\",\"2022-12-25T00:00:00\",\"2022-12-26T00:00:00\",\"2022-12-27T00:00:00\",\"2022-12-28T00:00:00\",\"2022-12-29T00:00:00\",\"2022-12-30T00:00:00\",\"2022-12-31T00:00:00\",\"2023-01-01T00:00:00\",\"2023-01-02T00:00:00\",\"2023-01-03T00:00:00\",\"2023-01-04T00:00:00\",\"2023-01-05T00:00:00\",\"2023-01-06T00:00:00\",\"2023-01-07T00:00:00\",\"2023-01-08T00:00:00\",\"2023-01-09T00:00:00\",\"2023-01-10T00:00:00\",\"2023-01-11T00:00:00\",\"2023-01-12T00:00:00\",\"2023-01-13T00:00:00\",\"2023-01-14T00:00:00\",\"2023-01-15T00:00:00\",\"2023-01-16T00:00:00\",\"2023-01-17T00:00:00\",\"2023-01-18T00:00:00\",\"2023-01-19T00:00:00\",\"2023-01-20T00:00:00\",\"2023-01-21T00:00:00\",\"2023-01-22T00:00:00\",\"2023-01-23T00:00:00\",\"2023-01-24T00:00:00\",\"2023-01-25T00:00:00\",\"2023-01-26T00:00:00\",\"2023-01-27T00:00:00\",\"2023-01-28T00:00:00\",\"2023-01-29T00:00:00\",\"2023-01-30T00:00:00\",\"2023-01-31T00:00:00\",\"2023-02-01T00:00:00\",\"2023-02-02T00:00:00\",\"2023-02-03T00:00:00\",\"2023-02-04T00:00:00\",\"2023-02-05T00:00:00\",\"2023-02-06T00:00:00\",\"2023-02-07T00:00:00\",\"2023-02-08T00:00:00\",\"2023-02-09T00:00:00\",\"2023-02-10T00:00:00\",\"2023-02-11T00:00:00\",\"2023-02-12T00:00:00\",\"2023-02-13T00:00:00\",\"2023-02-14T00:00:00\",\"2023-02-15T00:00:00\",\"2023-02-16T00:00:00\",\"2023-02-17T00:00:00\",\"2023-02-18T00:00:00\",\"2023-02-19T00:00:00\",\"2023-02-20T00:00:00\",\"2023-02-21T00:00:00\",\"2023-02-22T00:00:00\",\"2023-02-23T00:00:00\",\"2023-02-24T00:00:00\",\"2023-02-25T00:00:00\",\"2023-02-26T00:00:00\",\"2023-02-27T00:00:00\",\"2023-02-28T00:00:00\",\"2023-03-01T00:00:00\",\"2023-03-02T00:00:00\",\"2023-03-03T00:00:00\",\"2023-03-04T00:00:00\",\"2023-03-05T00:00:00\",\"2023-03-06T00:00:00\",\"2023-03-07T00:00:00\",\"2023-03-08T00:00:00\",\"2023-03-09T00:00:00\",\"2023-03-10T00:00:00\",\"2023-03-11T00:00:00\",\"2023-03-12T00:00:00\",\"2023-03-13T00:00:00\",\"2023-03-14T00:00:00\",\"2023-03-15T00:00:00\",\"2023-03-16T00:00:00\",\"2023-03-17T00:00:00\",\"2023-03-18T00:00:00\",\"2023-03-19T00:00:00\",\"2023-03-20T00:00:00\",\"2023-03-21T00:00:00\",\"2023-03-22T00:00:00\",\"2023-03-23T00:00:00\"],\"xaxis\":\"x\",\"y\":[112,172,179,202,252,320,381,478,588,732,893,1067,1283,1544,1851,2240,2644,3183,4060,4915,5566,6321,7421,8583,9857,11190,12569,13796,15202,16361,17540,19043,20191,21366,22421,23323,24334,25758,27107,28142,29398,30829,31544,33862,35844,37573,39534,41368,42590,43691,45208,46570,48904,50470,52318,53753,55072,56333,58848,60787,62481,64616,66824,68051,69514,71150,73218,74947,77015,78933,80366,81943,83981,86125,88488,90801,92815,94743,97017,99924,101873,104071,107043,110100,113114,115643,118081,120407,122917,126510,129147,131997,134287,137245,140139,143709,147285,150434,152953,155662,159131,163381,167135,170843,174854,178807,184620,191039,195889,201413,207027,211453,216955,223995,232153,239764,248198,256298,265176,271587,277869,287766,296304,303516,311505,320030,327676,336206,346593,355497,364761,374922,383194,391460,400195,410366,422528,433175,443096,453327,459338,467103,474951,486039,494269,502273,509507,515937,522235,527258,532776,541013,548142,556158,563244,574267,586078,595097,603212,613243,621981,628508,634991,640499,646742,653401,659991,665325,669944,676236,682320,687612,692964,698391,702500,706589,712543,716630,722037,727403,732693,737074,740233,742689,746114,749197,753019,757126,760582,763390,767063,769918,773319,776945,781437,788078,785077,792220,795080,798351,801674,805736,809215,811699,814797,817940,821126,824307,828365,831495,834636,837722,840324,843734,847385,851229,854303,857077,859960,863614,867094,870380,874102,876258,878395,882666,887094,890154,896427,902328,906645,909345,913707,918635,922685,926910,931843,935262,938897,944148,949390,954629,960905,967618,972821,978861,985623,994366,999516,1009216,1019080,1027044,1036008,1047390,1058123,1069544,1082705,1096427,1109869,1118673,1136498,1153032,1167176,1176159,1193089,1206296,1219511,1237238,1253905,1272079,1293937,1318188,1343193,1371985,1399239,1425501,1457273,1491132,1528237,1554920,1590726,1620916,1655166,1716108,1761430,1809673,1847031,1889914,1933169,1968541,2013298,2048014,2064763,2129749,2167303,2209024,2243191,2275565,2307860,2345811,2398005,2433916,2474639,2511923,2548830,2589250,2640221,2687450,2729858,2770482,2816366,2858041,2898756,2937860,2975419,3006966,3032359,3071465,3090794,3116369,3141404,3164386,3186036,3212939,3234571,3253201,3272829,3292572,3310100,3324064,3341656,3354544,3367104,3381785,3395797,3407369,3417563,3431179,3441692,3450284,3460901,3470426,3479586,3485533,3490542,3499336,3505610,3513458,3521349,3527411,3532057,3537033,3543293,3549145,3554779,3561681,3566089,3569578,3573775,3578092,3582495,3587750,3592812,3597075,3599828,3604005,3608146,3611614,3615174,3617479,3621217,3623465,3626427,3628489,3631857,3635429,3638641,3640830,3642778,3645684,3648181,3650958,3653449,3656822,3658932,3661102,3664161,3666541,3669048,3671690,3675457,3678343,3679968,3683077,3685338,3687758,3690309,3693923,3696900,3700795,3704295,3706904,3709392,3711717,3714542,3716759,3718367,3720922,3723405,3725355,3727911,3730175,3730549,3731900,3734630,3736753,3738507,3739891,3742224,3743780,3745139,3747389,3749576,3751248,3753796,3755950,3757249,3758303,3760386,3761977,3763580,3765346,3766941,3768252,3769052,3770344,3771421,3773011,3774570,3775904,3776679,3777406,3778839,3794373,3780128,3795202,3781388,3795959,3797141,3801812,3802390,3803495,3798225,3786674,3799174,3804529,3800222,3788120,3805390,3788894,3789496,3789883,3801205,3806400,3791188,3792111,3807542,3808088,3808733,3793194,3810024,3811099,3811979,3812993,3814393,3815178,3816045,3817655,3818311,3868398,3868398,3868398,3868398,3816704,3866606,3874128,3875460,3903528,3905886,3906315,3907428,3914148,3918797,3921906,3925591,3930518,3932295,3933928,3945211,3951134,3957625,3966545,3975402,3977990,3980074,3996383,4004981,4012673,4022880,4034150,4037490,4040811,4168517,4073891,4179874,4066259,4194890,4084002,4208226,4219616,4096518,4232845,4111393,4243746,4115522,4134375,4147364,4259451,4157038,4277523,4303611,4316350,4328308,4341369,4352491,4365584,4381691,4396238,4410353,4422246,4437703,4449186,4471918,4486276,4498298,4508025,4518576,4525630,4536771,4545832,4556885,4566746,4575900,4583292,4599348,4608094,4616854,4629146,4639199,4647462,4654530,4663226,4669895,4677452,4687178,4694673,4696228,4697407,4717357,4722662,4729805,4739046,4747079,4748442,4749498,4764829,4769383,4775779,4782944,4789773,4790968,4792007,4805395,4810715,4815429,4821901,4828318,4829415,4830310,4845060,4849225,4853378,4860797,4867059,4868220,4869133,4872707,4890036,4895127,4908206,4915206,4917683,4916614,4933895,4938058,4943059,4951490,4959010,4960633,4961782,4978363,4982702,4987439,4993930,4996986,5006025,5006960,5014583,5019484,5024415,5031042,5037132,5038985,5040034,5051418,5055959,5060127,5060129,5062119,5062737,5063311,5080522,5085477,5090300,5099788,5107543,5109833,5111469,5128950,5135147,5141243,5148904,5155484,5157293,5158764,5173616,5179298,5184663,5192915,5201644,5205345,5208847,5227931,5238811,5251204,5271267,5291605,5291605,5312399,5329067,5378451,5408613,5457967,5515613,5515613,5560323,5606685,5748437,5807748,5892644,6003256,6037652,6083283,6311255,6447667,6556829,6716565,6832478,6874405,6919509,7140744,7215028,7324358,7487212,7621774,7660930,7688422,7904252,7984924,8055410,8172855,8248681,8270373,8287535,8411819,8447069,8483510,8562030,8604465,8614417,8621360,8658747,8702299,8753919,8767710,8791266,8795926,8800780,8834778,8847111,8861813,8870565,8885752,8888971,8891601,8892924,8921012,8929279,8943492,8956818,8958993,8958993,8975648,8978975,8984737,8995103,9001579,9002938,9003101,9013699,9016956,9021781,9028579,9033744,9035301,9035301,9044007,9045596,9048717,9054556,9061041,9064239,9064239,9073409,9074703,9079164,9084013,9087644,9088616,9088616,9094047,9095335,9098492,9103954,9108198,9108202,9108202,9110544,9117579,9118671,9119878,9132016,9132019,9132019,9134794,9135719,9136777,9151205,9158440,9158440,9158448,9161719,9171994,9173336,9175454,9191757,9191757,9191757,9196288,9212572,9214424,9216851,9235920,9235936,9235936,9241769,9261139,9263998,9266946,9289686,9289709,9289709,9296769,9324886,9328408,9321533,9351229,9351253,9351253,9359245,9398846,9402566,9407260,9449358,9449407,9449407,9461626,9505145,9509990,9516167,9557283,9557347,9557347,9569871,9572842,9618290,9623352,9661160,9661160,9661160,9675504,9728951,9735641,9740705,9789742,9789742,9789861,9802778,9850089,9856336,9861034,9894394,9894394,9894394,9906427,9955717,9962108,9967883,10025036,10025036,10025110,10038765,10087984,10095355,10101062,10156643,10156643,10156643,10171959,10177563,10228221,10233568,10279898,10279898,10279898,10298129,10358182,10365785,10374290,10435541,10435541,10435541,10454194,10506662,10513729,10522372,10578770,10578770,10578770,10594052,10641665,10649458,10656412,10700053,10700053,10700053,10713333,10757986,10764622,10769686,10807573,10807573,10807573,10817941,10853402,10858351,10862660,10898548,10898548,10898548,10908539,10939491,10944159,10947473,10979626,10979626,10979626,10987530,11015161,11019530,11022505,11054444,11054444,11054444,11060838,11088191,11091425,11093984,11117372,11117372,11117372,11122387,11124581,11145708,11147393,11163758,11163758,11163758,11168261,11169894,11171759,11194286,11196447,11196447,11196447,11199912,11201464,11203061,11228851,11230511,11230511,11230511,11233676,11234999,11236331,11261913,11263827,11263827,11263827,11266268,11267236,11268276,11289060,11290889,11290889,11290889,11290889,11294061,11294895,11316398,11317620,11317620,11317620,11319190,11319195,11321488,11337782,11338846,11338846,11338846,11343021,11344103,11345366,11361181,11362397,11362397,11362397,11364908,11365734,11367123,11385477,11385477,11385477,11388453,11389933,11383971,11392604,11411448,11411450,11411450,11411450,11416039,11417621,11420767,11446381,11448703,11448703,11448727,11453640,11455445,11458520,11484761,11489970,11489970,11489970,11495367,11497895,11502638,11535834,11540816,11540816,11540816,11550859,11554226,11559335,11616356,11620250,11620250,11620250,11628037,11630402,11634639,11685057,11688449,11688449,11688449,11695224,11696011,11699232,11769634,11772574,11772574,11772585,11772585,11779543,11781729,11822939,11826466,11826466,11826523,11826523,11833426,11835660,11879543,11881668,11881668,11881685,11886820,11888255,11890846,11925125,11926718,11926718,11926732,11926732,11929917,11931371,11954442,11955605,11955605,11955660,11957890,11958856,11960085,11979032,11980295,11980295,11980312,11980312,11983239,11984822,12004618,12006068,12006068,12006071,12008242,12009359,12010445,12030850,12032321,12032321,12032321,12034630,12035813,12037035,12058356,12059443,12059443,12059486,12059486,12062220,12063650,12083679,12085063,12085063,12085125,12087218,12088153,12089197,12108673,12110014,12110014,12110014,12111875,12112791,12114454,12131977,12133065,12133065,12133065,12134760,12135588,12136243,12152129,12153079,12153079,12153083,12154293,12154941,12155467,12169158],\"yaxis\":\"y\",\"type\":\"scattergl\"}],                        {\"template\":{\"data\":{\"histogram2dcontour\":[{\"type\":\"histogram2dcontour\",\"colorbar\":{\"outlinewidth\":0,\"ticks\":\"\"},\"colorscale\":[[0.0,\"#0d0887\"],[0.1111111111111111,\"#46039f\"],[0.2222222222222222,\"#7201a8\"],[0.3333333333333333,\"#9c179e\"],[0.4444444444444444,\"#bd3786\"],[0.5555555555555556,\"#d8576b\"],[0.6666666666666666,\"#ed7953\"],[0.7777777777777778,\"#fb9f3a\"],[0.8888888888888888,\"#fdca26\"],[1.0,\"#f0f921\"]]}],\"choropleth\":[{\"type\":\"choropleth\",\"colorbar\":{\"outlinewidth\":0,\"ticks\":\"\"}}],\"histogram2d\":[{\"type\":\"histogram2d\",\"colorbar\":{\"outlinewidth\":0,\"ticks\":\"\"},\"colorscale\":[[0.0,\"#0d0887\"],[0.1111111111111111,\"#46039f\"],[0.2222222222222222,\"#7201a8\"],[0.3333333333333333,\"#9c179e\"],[0.4444444444444444,\"#bd3786\"],[0.5555555555555556,\"#d8576b\"],[0.6666666666666666,\"#ed7953\"],[0.7777777777777778,\"#fb9f3a\"],[0.8888888888888888,\"#fdca26\"],[1.0,\"#f0f921\"]]}],\"heatmap\":[{\"type\":\"heatmap\",\"colorbar\":{\"outlinewidth\":0,\"ticks\":\"\"},\"colorscale\":[[0.0,\"#0d0887\"],[0.1111111111111111,\"#46039f\"],[0.2222222222222222,\"#7201a8\"],[0.3333333333333333,\"#9c179e\"],[0.4444444444444444,\"#bd3786\"],[0.5555555555555556,\"#d8576b\"],[0.6666666666666666,\"#ed7953\"],[0.7777777777777778,\"#fb9f3a\"],[0.8888888888888888,\"#fdca26\"],[1.0,\"#f0f921\"]]}],\"heatmapgl\":[{\"type\":\"heatmapgl\",\"colorbar\":{\"outlinewidth\":0,\"ticks\":\"\"},\"colorscale\":[[0.0,\"#0d0887\"],[0.1111111111111111,\"#46039f\"],[0.2222222222222222,\"#7201a8\"],[0.3333333333333333,\"#9c179e\"],[0.4444444444444444,\"#bd3786\"],[0.5555555555555556,\"#d8576b\"],[0.6666666666666666,\"#ed7953\"],[0.7777777777777778,\"#fb9f3a\"],[0.8888888888888888,\"#fdca26\"],[1.0,\"#f0f921\"]]}],\"contourcarpet\":[{\"type\":\"contourcarpet\",\"colorbar\":{\"outlinewidth\":0,\"ticks\":\"\"}}],\"contour\":[{\"type\":\"contour\",\"colorbar\":{\"outlinewidth\":0,\"ticks\":\"\"},\"colorscale\":[[0.0,\"#0d0887\"],[0.1111111111111111,\"#46039f\"],[0.2222222222222222,\"#7201a8\"],[0.3333333333333333,\"#9c179e\"],[0.4444444444444444,\"#bd3786\"],[0.5555555555555556,\"#d8576b\"],[0.6666666666666666,\"#ed7953\"],[0.7777777777777778,\"#fb9f3a\"],[0.8888888888888888,\"#fdca26\"],[1.0,\"#f0f921\"]]}],\"surface\":[{\"type\":\"surface\",\"colorbar\":{\"outlinewidth\":0,\"ticks\":\"\"},\"colorscale\":[[0.0,\"#0d0887\"],[0.1111111111111111,\"#46039f\"],[0.2222222222222222,\"#7201a8\"],[0.3333333333333333,\"#9c179e\"],[0.4444444444444444,\"#bd3786\"],[0.5555555555555556,\"#d8576b\"],[0.6666666666666666,\"#ed7953\"],[0.7777777777777778,\"#fb9f3a\"],[0.8888888888888888,\"#fdca26\"],[1.0,\"#f0f921\"]]}],\"mesh3d\":[{\"type\":\"mesh3d\",\"colorbar\":{\"outlinewidth\":0,\"ticks\":\"\"}}],\"scatter\":[{\"fillpattern\":{\"fillmode\":\"overlay\",\"size\":10,\"solidity\":0.2},\"type\":\"scatter\"}],\"parcoords\":[{\"type\":\"parcoords\",\"line\":{\"colorbar\":{\"outlinewidth\":0,\"ticks\":\"\"}}}],\"scatterpolargl\":[{\"type\":\"scatterpolargl\",\"marker\":{\"colorbar\":{\"outlinewidth\":0,\"ticks\":\"\"}}}],\"bar\":[{\"error_x\":{\"color\":\"#2a3f5f\"},\"error_y\":{\"color\":\"#2a3f5f\"},\"marker\":{\"line\":{\"color\":\"#E5ECF6\",\"width\":0.5},\"pattern\":{\"fillmode\":\"overlay\",\"size\":10,\"solidity\":0.2}},\"type\":\"bar\"}],\"scattergeo\":[{\"type\":\"scattergeo\",\"marker\":{\"colorbar\":{\"outlinewidth\":0,\"ticks\":\"\"}}}],\"scatterpolar\":[{\"type\":\"scatterpolar\",\"marker\":{\"colorbar\":{\"outlinewidth\":0,\"ticks\":\"\"}}}],\"histogram\":[{\"marker\":{\"pattern\":{\"fillmode\":\"overlay\",\"size\":10,\"solidity\":0.2}},\"type\":\"histogram\"}],\"scattergl\":[{\"type\":\"scattergl\",\"marker\":{\"colorbar\":{\"outlinewidth\":0,\"ticks\":\"\"}}}],\"scatter3d\":[{\"type\":\"scatter3d\",\"line\":{\"colorbar\":{\"outlinewidth\":0,\"ticks\":\"\"}},\"marker\":{\"colorbar\":{\"outlinewidth\":0,\"ticks\":\"\"}}}],\"scattermapbox\":[{\"type\":\"scattermapbox\",\"marker\":{\"colorbar\":{\"outlinewidth\":0,\"ticks\":\"\"}}}],\"scatterternary\":[{\"type\":\"scatterternary\",\"marker\":{\"colorbar\":{\"outlinewidth\":0,\"ticks\":\"\"}}}],\"scattercarpet\":[{\"type\":\"scattercarpet\",\"marker\":{\"colorbar\":{\"outlinewidth\":0,\"ticks\":\"\"}}}],\"carpet\":[{\"aaxis\":{\"endlinecolor\":\"#2a3f5f\",\"gridcolor\":\"white\",\"linecolor\":\"white\",\"minorgridcolor\":\"white\",\"startlinecolor\":\"#2a3f5f\"},\"baxis\":{\"endlinecolor\":\"#2a3f5f\",\"gridcolor\":\"white\",\"linecolor\":\"white\",\"minorgridcolor\":\"white\",\"startlinecolor\":\"#2a3f5f\"},\"type\":\"carpet\"}],\"table\":[{\"cells\":{\"fill\":{\"color\":\"#EBF0F8\"},\"line\":{\"color\":\"white\"}},\"header\":{\"fill\":{\"color\":\"#C8D4E3\"},\"line\":{\"color\":\"white\"}},\"type\":\"table\"}],\"barpolar\":[{\"marker\":{\"line\":{\"color\":\"#E5ECF6\",\"width\":0.5},\"pattern\":{\"fillmode\":\"overlay\",\"size\":10,\"solidity\":0.2}},\"type\":\"barpolar\"}],\"pie\":[{\"automargin\":true,\"type\":\"pie\"}]},\"layout\":{\"autotypenumbers\":\"strict\",\"colorway\":[\"#636efa\",\"#EF553B\",\"#00cc96\",\"#ab63fa\",\"#FFA15A\",\"#19d3f3\",\"#FF6692\",\"#B6E880\",\"#FF97FF\",\"#FECB52\"],\"font\":{\"color\":\"#2a3f5f\"},\"hovermode\":\"closest\",\"hoverlabel\":{\"align\":\"left\"},\"paper_bgcolor\":\"white\",\"plot_bgcolor\":\"#E5ECF6\",\"polar\":{\"bgcolor\":\"#E5ECF6\",\"angularaxis\":{\"gridcolor\":\"white\",\"linecolor\":\"white\",\"ticks\":\"\"},\"radialaxis\":{\"gridcolor\":\"white\",\"linecolor\":\"white\",\"ticks\":\"\"}},\"ternary\":{\"bgcolor\":\"#E5ECF6\",\"aaxis\":{\"gridcolor\":\"white\",\"linecolor\":\"white\",\"ticks\":\"\"},\"baxis\":{\"gridcolor\":\"white\",\"linecolor\":\"white\",\"ticks\":\"\"},\"caxis\":{\"gridcolor\":\"white\",\"linecolor\":\"white\",\"ticks\":\"\"}},\"coloraxis\":{\"colorbar\":{\"outlinewidth\":0,\"ticks\":\"\"}},\"colorscale\":{\"sequential\":[[0.0,\"#0d0887\"],[0.1111111111111111,\"#46039f\"],[0.2222222222222222,\"#7201a8\"],[0.3333333333333333,\"#9c179e\"],[0.4444444444444444,\"#bd3786\"],[0.5555555555555556,\"#d8576b\"],[0.6666666666666666,\"#ed7953\"],[0.7777777777777778,\"#fb9f3a\"],[0.8888888888888888,\"#fdca26\"],[1.0,\"#f0f921\"]],\"sequentialminus\":[[0.0,\"#0d0887\"],[0.1111111111111111,\"#46039f\"],[0.2222222222222222,\"#7201a8\"],[0.3333333333333333,\"#9c179e\"],[0.4444444444444444,\"#bd3786\"],[0.5555555555555556,\"#d8576b\"],[0.6666666666666666,\"#ed7953\"],[0.7777777777777778,\"#fb9f3a\"],[0.8888888888888888,\"#fdca26\"],[1.0,\"#f0f921\"]],\"diverging\":[[0,\"#8e0152\"],[0.1,\"#c51b7d\"],[0.2,\"#de77ae\"],[0.3,\"#f1b6da\"],[0.4,\"#fde0ef\"],[0.5,\"#f7f7f7\"],[0.6,\"#e6f5d0\"],[0.7,\"#b8e186\"],[0.8,\"#7fbc41\"],[0.9,\"#4d9221\"],[1,\"#276419\"]]},\"xaxis\":{\"gridcolor\":\"white\",\"linecolor\":\"white\",\"ticks\":\"\",\"title\":{\"standoff\":15},\"zerolinecolor\":\"white\",\"automargin\":true,\"zerolinewidth\":2},\"yaxis\":{\"gridcolor\":\"white\",\"linecolor\":\"white\",\"ticks\":\"\",\"title\":{\"standoff\":15},\"zerolinecolor\":\"white\",\"automargin\":true,\"zerolinewidth\":2},\"scene\":{\"xaxis\":{\"backgroundcolor\":\"#E5ECF6\",\"gridcolor\":\"white\",\"linecolor\":\"white\",\"showbackground\":true,\"ticks\":\"\",\"zerolinecolor\":\"white\",\"gridwidth\":2},\"yaxis\":{\"backgroundcolor\":\"#E5ECF6\",\"gridcolor\":\"white\",\"linecolor\":\"white\",\"showbackground\":true,\"ticks\":\"\",\"zerolinecolor\":\"white\",\"gridwidth\":2},\"zaxis\":{\"backgroundcolor\":\"#E5ECF6\",\"gridcolor\":\"white\",\"linecolor\":\"white\",\"showbackground\":true,\"ticks\":\"\",\"zerolinecolor\":\"white\",\"gridwidth\":2}},\"shapedefaults\":{\"line\":{\"color\":\"#2a3f5f\"}},\"annotationdefaults\":{\"arrowcolor\":\"#2a3f5f\",\"arrowhead\":0,\"arrowwidth\":1},\"geo\":{\"bgcolor\":\"white\",\"landcolor\":\"#E5ECF6\",\"subunitcolor\":\"white\",\"showland\":true,\"showlakes\":true,\"lakecolor\":\"white\"},\"title\":{\"x\":0.05},\"mapbox\":{\"style\":\"light\"}}},\"xaxis\":{\"anchor\":\"y\",\"domain\":[0.0,1.0],\"title\":{\"text\":\"date\"}},\"yaxis\":{\"anchor\":\"x\",\"domain\":[0.0,1.0],\"title\":{\"text\":\"cases\"}},\"annotations\":[{\"font\":{},\"showarrow\":false,\"text\":\"state=California\",\"x\":0.5,\"xanchor\":\"center\",\"xref\":\"paper\",\"y\":1.0,\"yanchor\":\"bottom\",\"yref\":\"paper\"}],\"legend\":{\"title\":{\"text\":\"state\"},\"tracegroupgap\":0,\"itemsizing\":\"constant\"},\"margin\":{\"t\":60}},                        {\"responsive\": true}                    ).then(function(){\n",
              "                            \n",
              "var gd = document.getElementById('34a33bb8-8b92-4715-b6d2-0a856c8b6527');\n",
              "var x = new MutationObserver(function (mutations, observer) {{\n",
              "        var display = window.getComputedStyle(gd).display;\n",
              "        if (!display || display === 'none') {{\n",
              "            console.log([gd, 'removed!']);\n",
              "            Plotly.purge(gd);\n",
              "            observer.disconnect();\n",
              "        }}\n",
              "}});\n",
              "\n",
              "// Listen for the removal of the full notebook cells\n",
              "var notebookContainer = gd.closest('#notebook-container');\n",
              "if (notebookContainer) {{\n",
              "    x.observe(notebookContainer, {childList: true});\n",
              "}}\n",
              "\n",
              "// Listen for the clearing of the current output cell\n",
              "var outputEl = gd.closest('.output');\n",
              "if (outputEl) {{\n",
              "    x.observe(outputEl, {childList: true});\n",
              "}}\n",
              "\n",
              "                        })                };                            </script>        </div>\n",
              "</body>\n",
              "</html>"
            ]
          },
          "metadata": {
            "tags": []
          }
        }
      ]
    },
    {
      "cell_type": "markdown",
      "metadata": {
        "id": "rN0jv8_3mD-z"
      },
      "source": [
        "### Search for Features:  Political, Health and Finance"
      ]
    },
    {
      "cell_type": "markdown",
      "metadata": {
        "id": "4VLRtEYvBtoR"
      },
      "source": [
        "*Sugar Intake By State*"
      ]
    },
    {
      "cell_type": "code",
      "metadata": {
        "id": "nnLcHUUUBwzD",
        "outputId": "0351e944-96b5-4ac5-cd76-81fb2752fbdb",
        "colab": {
          "base_uri": "https://localhost:8080/",
          "height": 202
        }
      },
      "source": [
        "cdc_2013 = pd.read_csv(\"https://raw.githubusercontent.com/noahgift/sugar/master/data/education_sugar_cdc_2003.csv\")\n",
        "cdc_2013.set_index(\"State\", inplace=True)\n",
        "for column in cdc_2013.columns:\n",
        "  cdc_2013[column]=cdc_2013[column].str.replace(r\"\\(.*\\)\",\"\")\n",
        "  cdc_2013[column]=pd.to_numeric(cdc_2013[column])\n",
        "\n",
        "cdc_2013.reset_index(inplace=True)\n",
        "cdc_2013.rename(columns={\"State\": \"state\", \"Employed\": \"employed-sugar-intake-daily\"},inplace=True)\n",
        "cdc_2013.head()"
      ],
      "execution_count": null,
      "outputs": [
        {
          "data": {
            "text/plain": [
              "                              Employed      Not employed           Retired  \\\n",
              "State                                                                        \n",
              "Alaska                26.2 (23.6–28.9)  32.1 (27.8–36.8)  16.0 (12.6–20.2)   \n",
              "Arizona               33.0 (28.5–37.8)  28.7 (23.5–34.5)  13.8 (10.8–17.5)   \n",
              "California            22.9 (20.9–25.1)  30.2 (27.1–33.4)  15.0 (12.2–18.2)   \n",
              "Connecticut           18.9 (17.1–20.9)  24.3 (20.8–28.2)  15.0 (12.7–17.7)   \n",
              "District of Columbia  18.5 (15.7–21.7)  34.6 (29.5–40.1)  18.5 (15.3–22.1)   \n",
              "\n",
              "                          <High school       High school      Some college  \\\n",
              "State                                                                        \n",
              "Alaska                47.1 (37.8–56.5)  34.9 (31.1–38.9)  24.2 (21.0–27.8)   \n",
              "Arizona               40.4 (30.9–50.7)  36.5 (30.7–42.7)  24.4 (19.9–29.4)   \n",
              "California            38.5 (34.2–43.0)  29.9 (26.5–33.7)  21.4 (18.8–24.2)   \n",
              "Connecticut           27.8 (22.4–33.9)  26.9 (23.7–30.3)  19.9 (17.2–23.0)   \n",
              "District of Columbia  45.6 (36.4–55.2)  39.0 (33.1–45.2)  28.9 (23.4–35.0)   \n",
              "\n",
              "                      College graduate  \n",
              "State                                   \n",
              "Alaska                12.9 (10.5–15.7)  \n",
              "Arizona               14.6 (11.6–18.3)  \n",
              "California             11.5 (9.8–13.5)  \n",
              "Connecticut            10.2 (8.7–12.0)  \n",
              "District of Columbia    8.4 (7.0–10.1)  "
            ],
            "text/html": [
              "\n",
              "  <div id=\"df-30a00b60-d908-4aab-a405-8249c7e13c08\" class=\"colab-df-container\">\n",
              "    <div>\n",
              "<style scoped>\n",
              "    .dataframe tbody tr th:only-of-type {\n",
              "        vertical-align: middle;\n",
              "    }\n",
              "\n",
              "    .dataframe tbody tr th {\n",
              "        vertical-align: top;\n",
              "    }\n",
              "\n",
              "    .dataframe thead th {\n",
              "        text-align: right;\n",
              "    }\n",
              "</style>\n",
              "<table border=\"1\" class=\"dataframe\">\n",
              "  <thead>\n",
              "    <tr style=\"text-align: right;\">\n",
              "      <th></th>\n",
              "      <th>Employed</th>\n",
              "      <th>Not employed</th>\n",
              "      <th>Retired</th>\n",
              "      <th>&lt;High school</th>\n",
              "      <th>High school</th>\n",
              "      <th>Some college</th>\n",
              "      <th>College graduate</th>\n",
              "    </tr>\n",
              "    <tr>\n",
              "      <th>State</th>\n",
              "      <th></th>\n",
              "      <th></th>\n",
              "      <th></th>\n",
              "      <th></th>\n",
              "      <th></th>\n",
              "      <th></th>\n",
              "      <th></th>\n",
              "    </tr>\n",
              "  </thead>\n",
              "  <tbody>\n",
              "    <tr>\n",
              "      <th>Alaska</th>\n",
              "      <td>26.2 (23.6–28.9)</td>\n",
              "      <td>32.1 (27.8–36.8)</td>\n",
              "      <td>16.0 (12.6–20.2)</td>\n",
              "      <td>47.1 (37.8–56.5)</td>\n",
              "      <td>34.9 (31.1–38.9)</td>\n",
              "      <td>24.2 (21.0–27.8)</td>\n",
              "      <td>12.9 (10.5–15.7)</td>\n",
              "    </tr>\n",
              "    <tr>\n",
              "      <th>Arizona</th>\n",
              "      <td>33.0 (28.5–37.8)</td>\n",
              "      <td>28.7 (23.5–34.5)</td>\n",
              "      <td>13.8 (10.8–17.5)</td>\n",
              "      <td>40.4 (30.9–50.7)</td>\n",
              "      <td>36.5 (30.7–42.7)</td>\n",
              "      <td>24.4 (19.9–29.4)</td>\n",
              "      <td>14.6 (11.6–18.3)</td>\n",
              "    </tr>\n",
              "    <tr>\n",
              "      <th>California</th>\n",
              "      <td>22.9 (20.9–25.1)</td>\n",
              "      <td>30.2 (27.1–33.4)</td>\n",
              "      <td>15.0 (12.2–18.2)</td>\n",
              "      <td>38.5 (34.2–43.0)</td>\n",
              "      <td>29.9 (26.5–33.7)</td>\n",
              "      <td>21.4 (18.8–24.2)</td>\n",
              "      <td>11.5 (9.8–13.5)</td>\n",
              "    </tr>\n",
              "    <tr>\n",
              "      <th>Connecticut</th>\n",
              "      <td>18.9 (17.1–20.9)</td>\n",
              "      <td>24.3 (20.8–28.2)</td>\n",
              "      <td>15.0 (12.7–17.7)</td>\n",
              "      <td>27.8 (22.4–33.9)</td>\n",
              "      <td>26.9 (23.7–30.3)</td>\n",
              "      <td>19.9 (17.2–23.0)</td>\n",
              "      <td>10.2 (8.7–12.0)</td>\n",
              "    </tr>\n",
              "    <tr>\n",
              "      <th>District of Columbia</th>\n",
              "      <td>18.5 (15.7–21.7)</td>\n",
              "      <td>34.6 (29.5–40.1)</td>\n",
              "      <td>18.5 (15.3–22.1)</td>\n",
              "      <td>45.6 (36.4–55.2)</td>\n",
              "      <td>39.0 (33.1–45.2)</td>\n",
              "      <td>28.9 (23.4–35.0)</td>\n",
              "      <td>8.4 (7.0–10.1)</td>\n",
              "    </tr>\n",
              "  </tbody>\n",
              "</table>\n",
              "</div>\n",
              "    <div class=\"colab-df-buttons\">\n",
              "\n",
              "[5 rows x 8 columns]"
            ]
          },
          "metadata": {
            "tags": []
          },
          "execution_count": 45
        }
      ]
    },
    {
      "cell_type": "markdown",
      "metadata": {
        "id": "BT7YQzUcCRSn"
      },
      "source": [
        "*Combine Sugar Data and Covid-19 Data*"
      ]
    },
    {
      "cell_type": "code",
      "execution_count": null,
      "metadata": {
        "outputId": "0f04c9ce-bae4-43eb-c1a6-b3aef97e4bd1",
        "id": "mxZ76ZI8EDQ2",
        "colab": {
          "base_uri": "https://localhost:8080/",
          "height": 202
        }
      },
      "source": [
        "cdc_employed_df = cdc_2013[[\"employed-sugar-intake-daily\", \"state\"]]\n",
        "sugar_covid_df = df.merge(cdc_employed_df, how=\"inner\", on=\"state\")\n",
        "sugar_covid_df.head()"
      ],
      "execution_count": null,
      "outputs": [
        {
          "output_type": "execute_result",
          "data": {
            "text/html": [
              "<div>\n",
              "<style scoped>\n",
              "    .dataframe tbody tr th:only-of-type {\n",
              "        vertical-align: middle;\n",
              "    }\n",
              "\n",
              "    .dataframe tbody tr th {\n",
              "        vertical-align: top;\n",
              "    }\n",
              "\n",
              "    .dataframe thead th {\n",
              "        text-align: right;\n",
              "    }\n",
              "</style>\n",
              "<table border=\"1\" class=\"dataframe\">\n",
              "  <thead>\n",
              "    <tr style=\"text-align: right;\">\n",
              "      <th></th>\n",
              "      <th>state</th>\n",
              "      <th>fips</th>\n",
              "      <th>cases</th>\n",
              "      <th>deaths</th>\n",
              "      <th>employed-sugar-intake-daily</th>\n",
              "    </tr>\n",
              "  </thead>\n",
              "  <tbody>\n",
              "    <tr>\n",
              "      <th>0</th>\n",
              "      <td>California</td>\n",
              "      <td>6</td>\n",
              "      <td>1</td>\n",
              "      <td>0</td>\n",
              "      <td>22.9</td>\n",
              "    </tr>\n",
              "    <tr>\n",
              "      <th>1</th>\n",
              "      <td>California</td>\n",
              "      <td>6</td>\n",
              "      <td>2</td>\n",
              "      <td>0</td>\n",
              "      <td>22.9</td>\n",
              "    </tr>\n",
              "    <tr>\n",
              "      <th>2</th>\n",
              "      <td>California</td>\n",
              "      <td>6</td>\n",
              "      <td>2</td>\n",
              "      <td>0</td>\n",
              "      <td>22.9</td>\n",
              "    </tr>\n",
              "    <tr>\n",
              "      <th>3</th>\n",
              "      <td>California</td>\n",
              "      <td>6</td>\n",
              "      <td>2</td>\n",
              "      <td>0</td>\n",
              "      <td>22.9</td>\n",
              "    </tr>\n",
              "    <tr>\n",
              "      <th>4</th>\n",
              "      <td>California</td>\n",
              "      <td>6</td>\n",
              "      <td>2</td>\n",
              "      <td>0</td>\n",
              "      <td>22.9</td>\n",
              "    </tr>\n",
              "  </tbody>\n",
              "</table>\n",
              "</div>"
            ],
            "text/plain": [
              "        state  fips  cases  deaths  employed-sugar-intake-daily\n",
              "0  California     6      1       0                         22.9\n",
              "1  California     6      2       0                         22.9\n",
              "2  California     6      2       0                         22.9\n",
              "3  California     6      2       0                         22.9\n",
              "4  California     6      2       0                         22.9"
            ]
          },
          "metadata": {
            "tags": []
          },
          "execution_count": 46
        }
      ],
      "source": [
        "cdc_employed_df = cdc_2013[[\"employed-sugar-intake-daily\", \"state\"]]\n",
        "sugar_covid_df = df.merge(cdc_employed_df, how=\"inner\", on=\"state\")\n",
        "sugar_covid_df.head()"
      ]
    },
    {
      "cell_type": "markdown",
      "metadata": {
        "id": "9syyMOxhTHMo"
      },
      "source": [
        "*What about data from the 2016 Election?*"
      ]
    },
    {
      "cell_type": "code",
      "execution_count": null,
      "metadata": {
        "id": "2RZa-tDmTPXP",
        "outputId": "e06bc642-feb3-480b-a3b4-0704e2ae8b03",
        "colab": {
          "base_uri": "https://localhost:8080/",
          "height": 202
        }
      },
      "source": [
        "election_df = pd.read_csv(\"https://raw.githubusercontent.com/paiml/minimal-python/master/data/2016-Electoral-Votes.csv\")\n",
        "election_df.rename(columns={\"State\": \"state\"},inplace=True)\n",
        "election_df.drop(columns=\"Votes\", inplace=True)\n",
        "election_df = pd.concat([election_df, pd.get_dummies(election_df[\"Winning Party\"])], axis=1);\n",
        "election_df.head()\n",
        "#election_df[\"Republican?\"] = pd.get_dummies(election_df, columns=[\"Winning Party\"])\n",
        "#election_df.head()"
      ],
      "execution_count": null,
      "outputs": [
        {
          "output_type": "execute_result",
          "data": {
            "text/html": [
              "<div>\n",
              "<style scoped>\n",
              "    .dataframe tbody tr th:only-of-type {\n",
              "        vertical-align: middle;\n",
              "    }\n",
              "\n",
              "    .dataframe tbody tr th {\n",
              "        vertical-align: top;\n",
              "    }\n",
              "\n",
              "    .dataframe thead th {\n",
              "        text-align: right;\n",
              "    }\n",
              "</style>\n",
              "<table border=\"1\" class=\"dataframe\">\n",
              "  <thead>\n",
              "    <tr style=\"text-align: right;\">\n",
              "      <th></th>\n",
              "      <th>state</th>\n",
              "      <th>Winning Party</th>\n",
              "      <th>Democrats</th>\n",
              "      <th>Republicans</th>\n",
              "    </tr>\n",
              "  </thead>\n",
              "  <tbody>\n",
              "    <tr>\n",
              "      <th>0</th>\n",
              "      <td>Alabama</td>\n",
              "      <td>Republicans</td>\n",
              "      <td>0</td>\n",
              "      <td>1</td>\n",
              "    </tr>\n",
              "    <tr>\n",
              "      <th>1</th>\n",
              "      <td>Alaska</td>\n",
              "      <td>Republicans</td>\n",
              "      <td>0</td>\n",
              "      <td>1</td>\n",
              "    </tr>\n",
              "    <tr>\n",
              "      <th>2</th>\n",
              "      <td>Arizona</td>\n",
              "      <td>Republicans</td>\n",
              "      <td>0</td>\n",
              "      <td>1</td>\n",
              "    </tr>\n",
              "    <tr>\n",
              "      <th>3</th>\n",
              "      <td>Arkansas</td>\n",
              "      <td>Republicans</td>\n",
              "      <td>0</td>\n",
              "      <td>1</td>\n",
              "    </tr>\n",
              "    <tr>\n",
              "      <th>4</th>\n",
              "      <td>California</td>\n",
              "      <td>Democrats</td>\n",
              "      <td>1</td>\n",
              "      <td>0</td>\n",
              "    </tr>\n",
              "  </tbody>\n",
              "</table>\n",
              "</div>"
            ],
            "text/plain": [
              "        state Winning Party  Democrats  Republicans\n",
              "0     Alabama   Republicans          0            1\n",
              "1      Alaska   Republicans          0            1\n",
              "2     Arizona   Republicans          0            1\n",
              "3    Arkansas   Republicans          0            1\n",
              "4  California     Democrats          1            0"
            ]
          },
          "metadata": {
            "tags": []
          },
          "execution_count": 47
        }
      ]
    },
    {
      "cell_type": "code",
      "execution_count": null,
      "metadata": {
        "id": "c6CuViW_V2Hx",
        "outputId": "76ec7320-9f60-495c-9f7a-cce61c8e2d59",
        "colab": {
          "base_uri": "https://localhost:8080/",
          "height": 202
        }
      },
      "source": [
        "sugar_covid_df = sugar_covid_df.merge(election_df, how=\"inner\", on=\"state\")\n",
        "sugar_covid_df.head()"
      ],
      "execution_count": null,
      "outputs": [
        {
          "output_type": "execute_result",
          "data": {
            "text/html": [
              "<div>\n",
              "<style scoped>\n",
              "    .dataframe tbody tr th:only-of-type {\n",
              "        vertical-align: middle;\n",
              "    }\n",
              "\n",
              "    .dataframe tbody tr th {\n",
              "        vertical-align: top;\n",
              "    }\n",
              "\n",
              "    .dataframe thead th {\n",
              "        text-align: right;\n",
              "    }\n",
              "</style>\n",
              "<table border=\"1\" class=\"dataframe\">\n",
              "  <thead>\n",
              "    <tr style=\"text-align: right;\">\n",
              "      <th></th>\n",
              "      <th>state</th>\n",
              "      <th>fips</th>\n",
              "      <th>cases</th>\n",
              "      <th>deaths</th>\n",
              "      <th>employed-sugar-intake-daily</th>\n",
              "      <th>Winning Party</th>\n",
              "      <th>Democrats</th>\n",
              "      <th>Republicans</th>\n",
              "    </tr>\n",
              "  </thead>\n",
              "  <tbody>\n",
              "    <tr>\n",
              "      <th>0</th>\n",
              "      <td>California</td>\n",
              "      <td>6</td>\n",
              "      <td>1</td>\n",
              "      <td>0</td>\n",
              "      <td>22.9</td>\n",
              "      <td>Democrats</td>\n",
              "      <td>1</td>\n",
              "      <td>0</td>\n",
              "    </tr>\n",
              "    <tr>\n",
              "      <th>1</th>\n",
              "      <td>California</td>\n",
              "      <td>6</td>\n",
              "      <td>2</td>\n",
              "      <td>0</td>\n",
              "      <td>22.9</td>\n",
              "      <td>Democrats</td>\n",
              "      <td>1</td>\n",
              "      <td>0</td>\n",
              "    </tr>\n",
              "    <tr>\n",
              "      <th>2</th>\n",
              "      <td>California</td>\n",
              "      <td>6</td>\n",
              "      <td>2</td>\n",
              "      <td>0</td>\n",
              "      <td>22.9</td>\n",
              "      <td>Democrats</td>\n",
              "      <td>1</td>\n",
              "      <td>0</td>\n",
              "    </tr>\n",
              "    <tr>\n",
              "      <th>3</th>\n",
              "      <td>California</td>\n",
              "      <td>6</td>\n",
              "      <td>2</td>\n",
              "      <td>0</td>\n",
              "      <td>22.9</td>\n",
              "      <td>Democrats</td>\n",
              "      <td>1</td>\n",
              "      <td>0</td>\n",
              "    </tr>\n",
              "    <tr>\n",
              "      <th>4</th>\n",
              "      <td>California</td>\n",
              "      <td>6</td>\n",
              "      <td>2</td>\n",
              "      <td>0</td>\n",
              "      <td>22.9</td>\n",
              "      <td>Democrats</td>\n",
              "      <td>1</td>\n",
              "      <td>0</td>\n",
              "    </tr>\n",
              "  </tbody>\n",
              "</table>\n",
              "</div>"
            ],
            "text/plain": [
              "        state  fips  cases  ...  Winning Party  Democrats Republicans\n",
              "0  California     6      1  ...      Democrats          1           0\n",
              "1  California     6      2  ...      Democrats          1           0\n",
              "2  California     6      2  ...      Democrats          1           0\n",
              "3  California     6      2  ...      Democrats          1           0\n",
              "4  California     6      2  ...      Democrats          1           0\n",
              "\n",
              "[5 rows x 8 columns]"
            ]
          },
          "metadata": {
            "tags": []
          },
          "execution_count": 48
        }
      ]
    },
    {
      "cell_type": "markdown",
      "metadata": {
        "id": "RmBJqPnXE5wR"
      },
      "source": [
        "*Generate Heatmap*"
      ]
    },
    {
      "cell_type": "code",
      "execution_count": null,
      "metadata": {
        "id": "cee_tCSBGdEM",
        "outputId": "f74e0e33-66cb-4051-c208-699aa539517b",
        "colab": {
          "base_uri": "https://localhost:8080/",
          "height": 233
        }
      },
      "source": [
        "sugar_covid_df.corr()"
      ],
      "execution_count": null,
      "outputs": [
        {
          "output_type": "execute_result",
          "data": {
            "text/html": [
              "<div>\n",
              "<style scoped>\n",
              "    .dataframe tbody tr th:only-of-type {\n",
              "        vertical-align: middle;\n",
              "    }\n",
              "\n",
              "    .dataframe tbody tr th {\n",
              "        vertical-align: top;\n",
              "    }\n",
              "\n",
              "    .dataframe thead th {\n",
              "        text-align: right;\n",
              "    }\n",
              "</style>\n",
              "<table border=\"1\" class=\"dataframe\">\n",
              "  <thead>\n",
              "    <tr style=\"text-align: right;\">\n",
              "      <th></th>\n",
              "      <th>fips</th>\n",
              "      <th>cases</th>\n",
              "      <th>deaths</th>\n",
              "      <th>employed-sugar-intake-daily</th>\n",
              "      <th>Democrats</th>\n",
              "      <th>Republicans</th>\n",
              "    </tr>\n",
              "  </thead>\n",
              "  <tbody>\n",
              "    <tr>\n",
              "      <th>fips</th>\n",
              "      <td>1.000000</td>\n",
              "      <td>0.053269</td>\n",
              "      <td>0.042491</td>\n",
              "      <td>0.231301</td>\n",
              "      <td>-0.228550</td>\n",
              "      <td>0.228550</td>\n",
              "    </tr>\n",
              "    <tr>\n",
              "      <th>cases</th>\n",
              "      <td>0.053269</td>\n",
              "      <td>1.000000</td>\n",
              "      <td>0.961783</td>\n",
              "      <td>-0.148097</td>\n",
              "      <td>0.221247</td>\n",
              "      <td>-0.221247</td>\n",
              "    </tr>\n",
              "    <tr>\n",
              "      <th>deaths</th>\n",
              "      <td>0.042491</td>\n",
              "      <td>0.961783</td>\n",
              "      <td>1.000000</td>\n",
              "      <td>-0.119988</td>\n",
              "      <td>0.178478</td>\n",
              "      <td>-0.178478</td>\n",
              "    </tr>\n",
              "    <tr>\n",
              "      <th>employed-sugar-intake-daily</th>\n",
              "      <td>0.231301</td>\n",
              "      <td>-0.148097</td>\n",
              "      <td>-0.119988</td>\n",
              "      <td>1.000000</td>\n",
              "      <td>-0.761812</td>\n",
              "      <td>0.761812</td>\n",
              "    </tr>\n",
              "    <tr>\n",
              "      <th>Democrats</th>\n",
              "      <td>-0.228550</td>\n",
              "      <td>0.221247</td>\n",
              "      <td>0.178478</td>\n",
              "      <td>-0.761812</td>\n",
              "      <td>1.000000</td>\n",
              "      <td>-1.000000</td>\n",
              "    </tr>\n",
              "    <tr>\n",
              "      <th>Republicans</th>\n",
              "      <td>0.228550</td>\n",
              "      <td>-0.221247</td>\n",
              "      <td>-0.178478</td>\n",
              "      <td>0.761812</td>\n",
              "      <td>-1.000000</td>\n",
              "      <td>1.000000</td>\n",
              "    </tr>\n",
              "  </tbody>\n",
              "</table>\n",
              "</div>"
            ],
            "text/plain": [
              "                                 fips     cases  ...  Democrats  Republicans\n",
              "fips                         1.000000  0.053269  ...  -0.228550     0.228550\n",
              "cases                        0.053269  1.000000  ...   0.221247    -0.221247\n",
              "deaths                       0.042491  0.961783  ...   0.178478    -0.178478\n",
              "employed-sugar-intake-daily  0.231301 -0.148097  ...  -0.761812     0.761812\n",
              "Democrats                   -0.228550  0.221247  ...   1.000000    -1.000000\n",
              "Republicans                  0.228550 -0.221247  ...  -1.000000     1.000000\n",
              "\n",
              "[6 rows x 6 columns]"
            ]
          },
          "metadata": {
            "tags": []
          },
          "execution_count": 49
        }
      ]
    },
    {
      "cell_type": "code",
      "execution_count": null,
      "metadata": {
        "id": "u6wVCIMIE74B",
        "outputId": "737a17b3-9160-40be-efd6-80ed03c9b12b",
        "colab": {
          "base_uri": "https://localhost:8080/",
          "height": 542
        }
      },
      "source": [
        "import plotly.graph_objects as go\n",
        "\n",
        "fig = go.Figure(data=go.Heatmap(\n",
        "                   z=sugar_covid_df.corr(),\n",
        "                   x=['fips','cases', 'deaths', 'employed-sugar-intake-daily', 'Democrats', 'Republicans'],\n",
        "                   y=['fips','cases', 'deaths', 'employed-sugar-intake-daily', 'Democrats', 'Republicans'],\n",
        "                   hoverongaps = False))\n",
        "fig.show()"
      ],
      "execution_count": null,
      "outputs": [
        {
          "output_type": "display_data",
          "data": {
            "text/html": [
              "<html>\n",
              "<head><meta charset=\"utf-8\" /></head>\n",
              "<body>\n",
              "    <div>\n",
              "            <script src=\"https://cdnjs.cloudflare.com/ajax/libs/mathjax/2.7.5/MathJax.js?config=TeX-AMS-MML_SVG\"></script><script type=\"text/javascript\">if (window.MathJax) {MathJax.Hub.Config({SVG: {font: \"STIX-Web\"}});}</script>\n",
              "                <script type=\"text/javascript\">window.PlotlyConfig = {MathJaxConfig: 'local'};</script>\n",
              "        <script src=\"https://cdn.plot.ly/plotly-latest.min.js\"></script>    \n",
              "            <div id=\"65d1dd90-8f0b-4459-91a7-88d306485818\" class=\"plotly-graph-div\" style=\"height:525px; width:100%;\"></div>\n",
              "            <script type=\"text/javascript\">\n",
              "                \n",
              "                    window.PLOTLYENV=window.PLOTLYENV || {};\n",
              "                    \n",
              "                if (document.getElementById(\"65d1dd90-8f0b-4459-91a7-88d306485818\")) {\n",
              "                    Plotly.newPlot(\n",
              "                        '65d1dd90-8f0b-4459-91a7-88d306485818',\n",
              "                        [{\"hoverongaps\": false, \"type\": \"heatmap\", \"x\": [\"fips\", \"cases\", \"deaths\", \"employed-sugar-intake-daily\", \"Democrats\", \"Republicans\"], \"y\": [\"fips\", \"cases\", \"deaths\", \"employed-sugar-intake-daily\", \"Democrats\", \"Republicans\"], \"z\": [[1.0, 0.053268646157539325, 0.042490910294499286, 0.23130127403270198, -0.22855029398627552, 0.2285502939862756], [0.053268646157539325, 1.0, 0.9617830316963103, -0.14809655793731633, 0.2212465365317122, -0.22124653653171222], [0.042490910294499286, 0.9617830316963103, 1.0, -0.11998783350791421, 0.17847836909721573, -0.17847836909721576], [0.23130127403270198, -0.14809655793731633, -0.11998783350791421, 1.0, -0.7618123961231389, 0.7618123961231377], [-0.22855029398627552, 0.2212465365317122, 0.17847836909721573, -0.7618123961231389, 1.0, -1.0], [0.2285502939862756, -0.22124653653171222, -0.17847836909721576, 0.7618123961231377, -1.0, 1.0]]}],\n",
              "                        {\"template\": {\"data\": {\"bar\": [{\"error_x\": {\"color\": \"#2a3f5f\"}, \"error_y\": {\"color\": \"#2a3f5f\"}, \"marker\": {\"line\": {\"color\": \"#E5ECF6\", \"width\": 0.5}}, \"type\": \"bar\"}], \"barpolar\": [{\"marker\": {\"line\": {\"color\": \"#E5ECF6\", \"width\": 0.5}}, \"type\": \"barpolar\"}], \"carpet\": [{\"aaxis\": {\"endlinecolor\": \"#2a3f5f\", \"gridcolor\": \"white\", \"linecolor\": \"white\", \"minorgridcolor\": \"white\", \"startlinecolor\": \"#2a3f5f\"}, \"baxis\": {\"endlinecolor\": \"#2a3f5f\", \"gridcolor\": \"white\", \"linecolor\": \"white\", \"minorgridcolor\": \"white\", \"startlinecolor\": \"#2a3f5f\"}, \"type\": \"carpet\"}], \"choropleth\": [{\"colorbar\": {\"outlinewidth\": 0, \"ticks\": \"\"}, \"type\": \"choropleth\"}], \"contour\": [{\"colorbar\": {\"outlinewidth\": 0, \"ticks\": \"\"}, \"colorscale\": [[0.0, \"#0d0887\"], [0.1111111111111111, \"#46039f\"], [0.2222222222222222, \"#7201a8\"], [0.3333333333333333, \"#9c179e\"], [0.4444444444444444, \"#bd3786\"], [0.5555555555555556, \"#d8576b\"], [0.6666666666666666, \"#ed7953\"], [0.7777777777777778, \"#fb9f3a\"], [0.8888888888888888, \"#fdca26\"], [1.0, \"#f0f921\"]], \"type\": \"contour\"}], \"contourcarpet\": [{\"colorbar\": {\"outlinewidth\": 0, \"ticks\": \"\"}, \"type\": \"contourcarpet\"}], \"heatmap\": [{\"colorbar\": {\"outlinewidth\": 0, \"ticks\": \"\"}, \"colorscale\": [[0.0, \"#0d0887\"], [0.1111111111111111, \"#46039f\"], [0.2222222222222222, \"#7201a8\"], [0.3333333333333333, \"#9c179e\"], [0.4444444444444444, \"#bd3786\"], [0.5555555555555556, \"#d8576b\"], [0.6666666666666666, \"#ed7953\"], [0.7777777777777778, \"#fb9f3a\"], [0.8888888888888888, \"#fdca26\"], [1.0, \"#f0f921\"]], \"type\": \"heatmap\"}], \"heatmapgl\": [{\"colorbar\": {\"outlinewidth\": 0, \"ticks\": \"\"}, \"colorscale\": [[0.0, \"#0d0887\"], [0.1111111111111111, \"#46039f\"], [0.2222222222222222, \"#7201a8\"], [0.3333333333333333, \"#9c179e\"], [0.4444444444444444, \"#bd3786\"], [0.5555555555555556, \"#d8576b\"], [0.6666666666666666, \"#ed7953\"], [0.7777777777777778, \"#fb9f3a\"], [0.8888888888888888, \"#fdca26\"], [1.0, \"#f0f921\"]], \"type\": \"heatmapgl\"}], \"histogram\": [{\"marker\": {\"colorbar\": {\"outlinewidth\": 0, \"ticks\": \"\"}}, \"type\": \"histogram\"}], \"histogram2d\": [{\"colorbar\": {\"outlinewidth\": 0, \"ticks\": \"\"}, \"colorscale\": [[0.0, \"#0d0887\"], [0.1111111111111111, \"#46039f\"], [0.2222222222222222, \"#7201a8\"], [0.3333333333333333, \"#9c179e\"], [0.4444444444444444, \"#bd3786\"], [0.5555555555555556, \"#d8576b\"], [0.6666666666666666, \"#ed7953\"], [0.7777777777777778, \"#fb9f3a\"], [0.8888888888888888, \"#fdca26\"], [1.0, \"#f0f921\"]], \"type\": \"histogram2d\"}], \"histogram2dcontour\": [{\"colorbar\": {\"outlinewidth\": 0, \"ticks\": \"\"}, \"colorscale\": [[0.0, \"#0d0887\"], [0.1111111111111111, \"#46039f\"], [0.2222222222222222, \"#7201a8\"], [0.3333333333333333, \"#9c179e\"], [0.4444444444444444, \"#bd3786\"], [0.5555555555555556, \"#d8576b\"], [0.6666666666666666, \"#ed7953\"], [0.7777777777777778, \"#fb9f3a\"], [0.8888888888888888, \"#fdca26\"], [1.0, \"#f0f921\"]], \"type\": \"histogram2dcontour\"}], \"mesh3d\": [{\"colorbar\": {\"outlinewidth\": 0, \"ticks\": \"\"}, \"type\": \"mesh3d\"}], \"parcoords\": [{\"line\": {\"colorbar\": {\"outlinewidth\": 0, \"ticks\": \"\"}}, \"type\": \"parcoords\"}], \"pie\": [{\"automargin\": true, \"type\": \"pie\"}], \"scatter\": [{\"marker\": {\"colorbar\": {\"outlinewidth\": 0, \"ticks\": \"\"}}, \"type\": \"scatter\"}], \"scatter3d\": [{\"line\": {\"colorbar\": {\"outlinewidth\": 0, \"ticks\": \"\"}}, \"marker\": {\"colorbar\": {\"outlinewidth\": 0, \"ticks\": \"\"}}, \"type\": \"scatter3d\"}], \"scattercarpet\": [{\"marker\": {\"colorbar\": {\"outlinewidth\": 0, \"ticks\": \"\"}}, \"type\": \"scattercarpet\"}], \"scattergeo\": [{\"marker\": {\"colorbar\": {\"outlinewidth\": 0, \"ticks\": \"\"}}, \"type\": \"scattergeo\"}], \"scattergl\": [{\"marker\": {\"colorbar\": {\"outlinewidth\": 0, \"ticks\": \"\"}}, \"type\": \"scattergl\"}], \"scattermapbox\": [{\"marker\": {\"colorbar\": {\"outlinewidth\": 0, \"ticks\": \"\"}}, \"type\": \"scattermapbox\"}], \"scatterpolar\": [{\"marker\": {\"colorbar\": {\"outlinewidth\": 0, \"ticks\": \"\"}}, \"type\": \"scatterpolar\"}], \"scatterpolargl\": [{\"marker\": {\"colorbar\": {\"outlinewidth\": 0, \"ticks\": \"\"}}, \"type\": \"scatterpolargl\"}], \"scatterternary\": [{\"marker\": {\"colorbar\": {\"outlinewidth\": 0, \"ticks\": \"\"}}, \"type\": \"scatterternary\"}], \"surface\": [{\"colorbar\": {\"outlinewidth\": 0, \"ticks\": \"\"}, \"colorscale\": [[0.0, \"#0d0887\"], [0.1111111111111111, \"#46039f\"], [0.2222222222222222, \"#7201a8\"], [0.3333333333333333, \"#9c179e\"], [0.4444444444444444, \"#bd3786\"], [0.5555555555555556, \"#d8576b\"], [0.6666666666666666, \"#ed7953\"], [0.7777777777777778, \"#fb9f3a\"], [0.8888888888888888, \"#fdca26\"], [1.0, \"#f0f921\"]], \"type\": \"surface\"}], \"table\": [{\"cells\": {\"fill\": {\"color\": \"#EBF0F8\"}, \"line\": {\"color\": \"white\"}}, \"header\": {\"fill\": {\"color\": \"#C8D4E3\"}, \"line\": {\"color\": \"white\"}}, \"type\": \"table\"}]}, \"layout\": {\"annotationdefaults\": {\"arrowcolor\": \"#2a3f5f\", \"arrowhead\": 0, \"arrowwidth\": 1}, \"coloraxis\": {\"colorbar\": {\"outlinewidth\": 0, \"ticks\": \"\"}}, \"colorscale\": {\"diverging\": [[0, \"#8e0152\"], [0.1, \"#c51b7d\"], [0.2, \"#de77ae\"], [0.3, \"#f1b6da\"], [0.4, \"#fde0ef\"], [0.5, \"#f7f7f7\"], [0.6, \"#e6f5d0\"], [0.7, \"#b8e186\"], [0.8, \"#7fbc41\"], [0.9, \"#4d9221\"], [1, \"#276419\"]], \"sequential\": [[0.0, \"#0d0887\"], [0.1111111111111111, \"#46039f\"], [0.2222222222222222, \"#7201a8\"], [0.3333333333333333, \"#9c179e\"], [0.4444444444444444, \"#bd3786\"], [0.5555555555555556, \"#d8576b\"], [0.6666666666666666, \"#ed7953\"], [0.7777777777777778, \"#fb9f3a\"], [0.8888888888888888, \"#fdca26\"], [1.0, \"#f0f921\"]], \"sequentialminus\": [[0.0, \"#0d0887\"], [0.1111111111111111, \"#46039f\"], [0.2222222222222222, \"#7201a8\"], [0.3333333333333333, \"#9c179e\"], [0.4444444444444444, \"#bd3786\"], [0.5555555555555556, \"#d8576b\"], [0.6666666666666666, \"#ed7953\"], [0.7777777777777778, \"#fb9f3a\"], [0.8888888888888888, \"#fdca26\"], [1.0, \"#f0f921\"]]}, \"colorway\": [\"#636efa\", \"#EF553B\", \"#00cc96\", \"#ab63fa\", \"#FFA15A\", \"#19d3f3\", \"#FF6692\", \"#B6E880\", \"#FF97FF\", \"#FECB52\"], \"font\": {\"color\": \"#2a3f5f\"}, \"geo\": {\"bgcolor\": \"white\", \"lakecolor\": \"white\", \"landcolor\": \"#E5ECF6\", \"showlakes\": true, \"showland\": true, \"subunitcolor\": \"white\"}, \"hoverlabel\": {\"align\": \"left\"}, \"hovermode\": \"closest\", \"mapbox\": {\"style\": \"light\"}, \"paper_bgcolor\": \"white\", \"plot_bgcolor\": \"#E5ECF6\", \"polar\": {\"angularaxis\": {\"gridcolor\": \"white\", \"linecolor\": \"white\", \"ticks\": \"\"}, \"bgcolor\": \"#E5ECF6\", \"radialaxis\": {\"gridcolor\": \"white\", \"linecolor\": \"white\", \"ticks\": \"\"}}, \"scene\": {\"xaxis\": {\"backgroundcolor\": \"#E5ECF6\", \"gridcolor\": \"white\", \"gridwidth\": 2, \"linecolor\": \"white\", \"showbackground\": true, \"ticks\": \"\", \"zerolinecolor\": \"white\"}, \"yaxis\": {\"backgroundcolor\": \"#E5ECF6\", \"gridcolor\": \"white\", \"gridwidth\": 2, \"linecolor\": \"white\", \"showbackground\": true, \"ticks\": \"\", \"zerolinecolor\": \"white\"}, \"zaxis\": {\"backgroundcolor\": \"#E5ECF6\", \"gridcolor\": \"white\", \"gridwidth\": 2, \"linecolor\": \"white\", \"showbackground\": true, \"ticks\": \"\", \"zerolinecolor\": \"white\"}}, \"shapedefaults\": {\"line\": {\"color\": \"#2a3f5f\"}}, \"ternary\": {\"aaxis\": {\"gridcolor\": \"white\", \"linecolor\": \"white\", \"ticks\": \"\"}, \"baxis\": {\"gridcolor\": \"white\", \"linecolor\": \"white\", \"ticks\": \"\"}, \"bgcolor\": \"#E5ECF6\", \"caxis\": {\"gridcolor\": \"white\", \"linecolor\": \"white\", \"ticks\": \"\"}}, \"title\": {\"x\": 0.05}, \"xaxis\": {\"automargin\": true, \"gridcolor\": \"white\", \"linecolor\": \"white\", \"ticks\": \"\", \"title\": {\"standoff\": 15}, \"zerolinecolor\": \"white\", \"zerolinewidth\": 2}, \"yaxis\": {\"automargin\": true, \"gridcolor\": \"white\", \"linecolor\": \"white\", \"ticks\": \"\", \"title\": {\"standoff\": 15}, \"zerolinecolor\": \"white\", \"zerolinewidth\": 2}}}},\n",
              "                        {\"responsive\": true}\n",
              "                    ).then(function(){\n",
              "                            \n",
              "var gd = document.getElementById('65d1dd90-8f0b-4459-91a7-88d306485818');\n",
              "var x = new MutationObserver(function (mutations, observer) {{\n",
              "        var display = window.getComputedStyle(gd).display;\n",
              "        if (!display || display === 'none') {{\n",
              "            console.log([gd, 'removed!']);\n",
              "            Plotly.purge(gd);\n",
              "            observer.disconnect();\n",
              "        }}\n",
              "}});\n",
              "\n",
              "// Listen for the removal of the full notebook cells\n",
              "var notebookContainer = gd.closest('#notebook-container');\n",
              "if (notebookContainer) {{\n",
              "    x.observe(notebookContainer, {childList: true});\n",
              "}}\n",
              "\n",
              "// Listen for the clearing of the current output cell\n",
              "var outputEl = gd.closest('.output');\n",
              "if (outputEl) {{\n",
              "    x.observe(outputEl, {childList: true});\n",
              "}}\n",
              "\n",
              "                        })\n",
              "                };\n",
              "                \n",
              "            </script>\n",
              "        </div>\n",
              "</body>\n",
              "</html>"
            ]
          },
          "metadata": {
            "tags": []
          }
        }
      ]
    },
    {
      "cell_type": "code",
      "execution_count": null,
      "metadata": {
        "id": "ZFaYmi8fBE6_"
      },
      "outputs": [],
      "source": [
        "sugar_covid_df.to_csv(\"covid-eda.csv\")"
      ]
    },
    {
      "cell_type": "markdown",
      "metadata": {
        "id": "lLqU5s5pH8PB"
      },
      "source": [
        "*What about Real-Estate Data?*"
      ]
    },
    {
      "cell_type": "markdown",
      "metadata": {
        "id": "M4W9aBagTHFC"
      },
      "source": []
    },
    {
      "cell_type": "markdown",
      "metadata": {
        "id": "IrRjhxe30C_q"
      },
      "source": [
        "## Modeling"
      ]
    },
    {
      "cell_type": "markdown",
      "metadata": {
        "id": "sdsYYSuy0Exu"
      },
      "source": []
    },
    {
      "cell_type": "markdown",
      "metadata": {
        "id": "ZFOuQGyn0E6w"
      },
      "source": [
        "## Conclusion\n"
      ]
    },
    {
      "cell_type": "markdown",
      "metadata": {
        "id": "cmcf2OJ40mm4"
      },
      "source": []
    }
  ],
  "metadata": {
    "colab": {
      "include_colab_link": true,
      "machine_shape": "hm",
      "name": "Chapter7-data-science.ipynb",
      "provenance": []
    },
    "kernelspec": {
      "display_name": "Python 3",
      "name": "python3"
    },
    "language_info": {
      "codemirror_mode": {
        "name": "ipython",
        "version": 3
      },
      "file_extension": ".py",
      "mimetype": "text/x-python",
      "name": "python",
      "nbconvert_exporter": "python",
      "pygments_lexer": "ipython3",
      "version": "3.12.1"
    }
  },
  "nbformat": 4,
  "nbformat_minor": 0
}
