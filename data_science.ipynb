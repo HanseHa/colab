{
  "nbformat": 4,
  "nbformat_minor": 0,
  "metadata": {
    "colab": {
      "provenance": [],
      "authorship_tag": "ABX9TyMgHUv57JKaLj4u+CcwkeHR",
      "include_colab_link": true
    },
    "kernelspec": {
      "name": "python3",
      "display_name": "Python 3"
    },
    "language_info": {
      "name": "python"
    }
  },
  "cells": [
    {
      "cell_type": "markdown",
      "metadata": {
        "id": "view-in-github",
        "colab_type": "text"
      },
      "source": [
        "<a href=\"https://colab.research.google.com/github/HanseHa/colab/blob/main/data_science.ipynb\" target=\"_parent\"><img src=\"https://colab.research.google.com/assets/colab-badge.svg\" alt=\"Open In Colab\"/></a>"
      ]
    },
    {
      "cell_type": "code",
      "execution_count": null,
      "metadata": {
        "id": "mXrX-Qkc2Qr3"
      },
      "outputs": [],
      "source": [
        "## lalala"
      ]
    },
    {
      "cell_type": "code",
      "source": [
        "## test lasla"
      ],
      "metadata": {
        "id": "Jg9U6r-G5gqs"
      },
      "execution_count": null,
      "outputs": []
    },
    {
      "cell_type": "code",
      "source": [
        "## adsfsadf"
      ],
      "metadata": {
        "id": "q9seq27M7Ush"
      },
      "execution_count": 7,
      "outputs": []
    },
    {
      "cell_type": "code",
      "source": [],
      "metadata": {
        "id": "pynyuYaT8wIo"
      },
      "execution_count": null,
      "outputs": []
    }
  ]
}